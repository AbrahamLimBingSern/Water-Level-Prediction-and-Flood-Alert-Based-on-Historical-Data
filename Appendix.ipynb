{
 "cells": [
  {
   "cell_type": "markdown",
   "metadata": {
    "id": "xFAM7vyPcI7W"
   },
   "source": [
    "1.0 Import Library"
   ]
  },
  {
   "cell_type": "code",
   "execution_count": 1,
   "metadata": {
    "id": "r14E8KCwZw6v"
   },
   "outputs": [],
   "source": [
    "# Data Manipulation\n",
    "import numpy as np\n",
    "import pandas as pd\n",
    "import matplotlib.pyplot as plt\n",
    "from sklearn.preprocessing import LabelEncoder, StandardScaler\n",
    "from sklearn.model_selection import train_test_split\n",
    "from imblearn.over_sampling import SMOTE\n",
    "from math import sqrt\n",
    "\n",
    "import warnings\n",
    "warnings.filterwarnings('ignore')"
   ]
  },
  {
   "cell_type": "markdown",
   "metadata": {},
   "source": [
    "- NumPy (np): A Python package that provides functionality for doing numerical calculations.\n",
    "\n",
    "- pandas (pd): A software library that enables users to manipulate and analyse data.\n",
    "\n",
    "- Matplotlib.pyplot (plt): A Python package that enables the creation of static, animated, and interactive visualisations.\n",
    "\n",
    "- sklearn.preprocessing.LabelEncoder: A tool that converts category information into numerical values.\n",
    "\n",
    "- sklearn.preprocessing.StandardScaler: A tool used to standardise features by subtracting the mean and scaling to have a variance of one.\n",
    "\n",
    "- sklearn.model_selection.train_test_split: Used to divide datasets into separate training and testing sets.\n",
    "\n",
    "- imblearn.over_sampling.SMOTE: (Synthetic Minority Over-sampling Technique): A technique used to balance the class distribution in a dataset. It does this by producing synthetic samples specifically for the minority class.\n",
    "\n",
    "- math.sqrt function: Used to compute the square root of a number.\n",
    "\n",
    "- warnings module: To silence warning messages while the code is being executed."
   ]
  },
  {
   "cell_type": "markdown",
   "metadata": {
    "id": "bMMjL71NcOcn"
   },
   "source": [
    "2.0 Load the dataset"
   ]
  },
  {
   "cell_type": "code",
   "execution_count": 2,
   "metadata": {
    "id": "jrX6bXXsZor-"
   },
   "outputs": [],
   "source": [
    "data = pd.read_csv('Rainfall_JPSTemerloh_2021_new.csv')\n",
    "data1 = pd.read_csv('Rainfall_JPSTemerloh_2022_new.csv')"
   ]
  },
  {
   "cell_type": "code",
   "execution_count": 3,
   "metadata": {
    "colab": {
     "base_uri": "https://localhost:8080/"
    },
    "id": "M9hnHabWqeIw",
    "outputId": "8daf3c3a-05be-49cc-c755-0aa392d46a9d"
   },
   "outputs": [
    {
     "name": "stdout",
     "output_type": "stream",
     "text": [
      "     Day Rainfall\n",
      "0      1     26.0\n",
      "1      2     36.0\n",
      "2      3    125.0\n",
      "3      4      3.5\n",
      "4      5     36.0\n",
      "..   ...      ...\n",
      "367   27      0.0\n",
      "368   28      0.0\n",
      "369   29      0.0\n",
      "370   30      2.0\n",
      "371   31     29.0\n",
      "\n",
      "[372 rows x 2 columns]\n"
     ]
    }
   ],
   "source": [
    "#make the 2021 data into one columns\n",
    "newdata=data.melt('Day', value_name='Rainfall').drop('variable', axis=1)\n",
    "print(newdata)"
   ]
  },
  {
   "cell_type": "code",
   "execution_count": 4,
   "metadata": {
    "colab": {
     "base_uri": "https://localhost:8080/"
    },
    "id": "7PcenDtP9c9X",
    "outputId": "861de9cf-6bd8-4615-8e4e-3e590471c841"
   },
   "outputs": [
    {
     "name": "stdout",
     "output_type": "stream",
     "text": [
      "     Day  Rainfall\n",
      "0      1      44.5\n",
      "1      2      25.0\n",
      "2      3       0.5\n",
      "3      4       8.0\n",
      "4      5       0.5\n",
      "..   ...       ...\n",
      "367   27       0.0\n",
      "368   28       0.0\n",
      "369   29       0.0\n",
      "370   30       0.0\n",
      "371   31       0.0\n",
      "\n",
      "[372 rows x 2 columns]\n"
     ]
    }
   ],
   "source": [
    "#make the 2022 data into one columns\n",
    "newdata1=data1.melt('Day', value_name='Rainfall').drop('variable', axis=1)\n",
    "print(newdata1)"
   ]
  },
  {
   "cell_type": "code",
   "execution_count": 5,
   "metadata": {
    "colab": {
     "base_uri": "https://localhost:8080/"
    },
    "id": "Kn9LBrxC8l6C",
    "outputId": "51e2f692-45e2-43fb-dc55-f091a0e7ce4a"
   },
   "outputs": [
    {
     "name": "stdout",
     "output_type": "stream",
     "text": [
      "     Day Rainfall\n",
      "0      1     26.0\n",
      "1      2     36.0\n",
      "2      3    125.0\n",
      "3      4      3.5\n",
      "4      5     36.0\n",
      "..   ...      ...\n",
      "739   27      0.0\n",
      "740   28      0.0\n",
      "741   29      0.0\n",
      "742   30      0.0\n",
      "743   31      0.0\n",
      "\n",
      "[744 rows x 2 columns]\n"
     ]
    }
   ],
   "source": [
    "#Merge Rainfall Data\n",
    "rainfalldata=pd.concat([newdata,newdata1], ignore_index=True)\n",
    "print(rainfalldata)"
   ]
  },
  {
   "cell_type": "code",
   "execution_count": 6,
   "metadata": {
    "id": "UulnlujqAM_-"
   },
   "outputs": [],
   "source": [
    "data2 = pd.read_csv('WaterLevel_SgPahang_2021_new.csv')\n",
    "data3 = pd.read_csv('WaterLevel_SgPahang_2022_new.csv')"
   ]
  },
  {
   "cell_type": "code",
   "execution_count": 7,
   "metadata": {
    "colab": {
     "base_uri": "https://localhost:8080/"
    },
    "id": "Xys-U4K8AeyL",
    "outputId": "7f194daf-d0d2-45de-f915-a2b75e3f20d0"
   },
   "outputs": [
    {
     "name": "stdout",
     "output_type": "stream",
     "text": [
      "     Day WaterLevel\n",
      "0      1      25.52\n",
      "1      2      27.71\n",
      "2      3      28.95\n",
      "3      4      31.84\n",
      "4      5      33.13\n",
      "..   ...        ...\n",
      "367   27       26.6\n",
      "368   28      26.12\n",
      "369   29      25.78\n",
      "370   30      25.37\n",
      "371   31      25.56\n",
      "\n",
      "[372 rows x 2 columns]\n"
     ]
    }
   ],
   "source": [
    "#make the 2021 data into one columns\n",
    "newdata2=data2.melt('Day', value_name='WaterLevel').drop('variable', axis=1)\n",
    "print(newdata2)"
   ]
  },
  {
   "cell_type": "code",
   "execution_count": 8,
   "metadata": {
    "colab": {
     "base_uri": "https://localhost:8080/"
    },
    "id": "o_P487UIAXCY",
    "outputId": "30adfcb2-b6d1-4618-d159-cab34aa8ba32"
   },
   "outputs": [
    {
     "name": "stdout",
     "output_type": "stream",
     "text": [
      "     Day  WaterLevel\n",
      "0      1       28.65\n",
      "1      2       30.70\n",
      "2      3       31.39\n",
      "3      4       31.35\n",
      "4      5       30.19\n",
      "..   ...         ...\n",
      "367   27       25.96\n",
      "368   28       25.67\n",
      "369   29       25.47\n",
      "370   30       25.32\n",
      "371   31       25.18\n",
      "\n",
      "[372 rows x 2 columns]\n"
     ]
    }
   ],
   "source": [
    "#make the 2022 data into one columns\n",
    "newdata3=data3.melt('Day', value_name='WaterLevel').drop('variable', axis=1)\n",
    "print(newdata3)"
   ]
  },
  {
   "cell_type": "code",
   "execution_count": 9,
   "metadata": {
    "colab": {
     "base_uri": "https://localhost:8080/"
    },
    "id": "czpzVXGCA_7x",
    "outputId": "6ac46a07-e284-459b-adc3-8ba50da46dcb"
   },
   "outputs": [
    {
     "name": "stdout",
     "output_type": "stream",
     "text": [
      "     Day WaterLevel\n",
      "0      1      25.52\n",
      "1      2      27.71\n",
      "2      3      28.95\n",
      "3      4      31.84\n",
      "4      5      33.13\n",
      "..   ...        ...\n",
      "739   27      25.96\n",
      "740   28      25.67\n",
      "741   29      25.47\n",
      "742   30      25.32\n",
      "743   31      25.18\n",
      "\n",
      "[744 rows x 2 columns]\n"
     ]
    }
   ],
   "source": [
    "#Merge WaterLevel Data\n",
    "waterleveldata=pd.concat([newdata2,newdata3], ignore_index=True)\n",
    "print(waterleveldata)"
   ]
  },
  {
   "cell_type": "code",
   "execution_count": 10,
   "metadata": {
    "id": "mleWqrRYIdYK"
   },
   "outputs": [],
   "source": [
    "data4 = pd.read_csv('Streamflow_SgPahang_2021_new.csv')\n",
    "data5 = pd.read_csv('Streamflow_SgPahang_2022_new.csv')"
   ]
  },
  {
   "cell_type": "code",
   "execution_count": 11,
   "metadata": {
    "colab": {
     "base_uri": "https://localhost:8080/"
    },
    "id": "4wySkT4bInRO",
    "outputId": "abcf2f43-c9ab-45be-f2c7-c4109ce0e3a7"
   },
   "outputs": [
    {
     "name": "stdout",
     "output_type": "stream",
     "text": [
      "        Day  StreamFlow\n",
      "0         1      719.41\n",
      "1         2     2133.23\n",
      "2         3     2999.71\n",
      "3         4     4965.74\n",
      "4         5     5845.11\n",
      "..      ...         ...\n",
      "391      29      849.70\n",
      "392      30      644.58\n",
      "393      31      745.48\n",
      "394     NaN         NaN\n",
      "395  Gap= 0         NaN\n",
      "\n",
      "[396 rows x 2 columns]\n"
     ]
    }
   ],
   "source": [
    "#make the 2021 data into one columns\n",
    "newdata4=data4.melt('Day', value_name='StreamFlow').drop('variable', axis=1)\n",
    "print(newdata4)"
   ]
  },
  {
   "cell_type": "code",
   "execution_count": 12,
   "metadata": {
    "colab": {
     "base_uri": "https://localhost:8080/"
    },
    "id": "xxpOrB6XIva4",
    "outputId": "05b4de08-bc93-4726-c81b-00e10f2d66c2"
   },
   "outputs": [
    {
     "name": "stdout",
     "output_type": "stream",
     "text": [
      "        Day  StreamFlow\n",
      "0         1     2792.38\n",
      "1         2     4204.10\n",
      "2         3     4660.11\n",
      "3         4     4634.53\n",
      "4         5     3856.88\n",
      "..      ...         ...\n",
      "391      29      688.34\n",
      "392      30      621.39\n",
      "393      31      555.18\n",
      "394     NaN         NaN\n",
      "395  Gap= 0         NaN\n",
      "\n",
      "[396 rows x 2 columns]\n"
     ]
    }
   ],
   "source": [
    "#make the 2022 data into one columns\n",
    "newdata5=data5.melt('Day', value_name='StreamFlow').drop('variable', axis=1)\n",
    "print(newdata5)"
   ]
  },
  {
   "cell_type": "code",
   "execution_count": 13,
   "metadata": {
    "colab": {
     "base_uri": "https://localhost:8080/"
    },
    "id": "97O3yYPnI5DB",
    "outputId": "bbfe9116-59ac-4f3e-b4ed-728126b33e0b"
   },
   "outputs": [
    {
     "name": "stdout",
     "output_type": "stream",
     "text": [
      "        Day  StreamFlow\n",
      "0         1      719.41\n",
      "1         2     2133.23\n",
      "2         3     2999.71\n",
      "3         4     4965.74\n",
      "4         5     5845.11\n",
      "..      ...         ...\n",
      "787      29      688.34\n",
      "788      30      621.39\n",
      "789      31      555.18\n",
      "790     NaN         NaN\n",
      "791  Gap= 0         NaN\n",
      "\n",
      "[792 rows x 2 columns]\n"
     ]
    }
   ],
   "source": [
    "#Merge StreamFlow Data\n",
    "streamflowdata=pd.concat([newdata4,newdata5], ignore_index=True)\n",
    "print(streamflowdata)"
   ]
  },
  {
   "cell_type": "code",
   "execution_count": 14,
   "metadata": {
    "id": "Ihy6V6iTJO6y"
   },
   "outputs": [],
   "source": [
    "data6 = pd.read_csv('Weather_Temerloh_Celcius_2021.csv')\n",
    "data7 = pd.read_csv('Weather_Temerloh_Celcius_2022.csv')"
   ]
  },
  {
   "cell_type": "code",
   "execution_count": 15,
   "metadata": {
    "colab": {
     "base_uri": "https://localhost:8080/"
    },
    "id": "3RCa00NLJYBs",
    "outputId": "6a506e72-e8aa-4230-b070-39de6938a150"
   },
   "outputs": [
    {
     "name": "stdout",
     "output_type": "stream",
     "text": [
      "     Day    Weather\n",
      "0      1  24.611111\n",
      "1      2  24.333333\n",
      "2      3  23.055556\n",
      "3      4  23.388889\n",
      "4      5  25.611111\n",
      "..   ...        ...\n",
      "367   27  27.055556\n",
      "368   28  26.777778\n",
      "369   29  26.722222\n",
      "370   30  24.611111\n",
      "371   31  25.666667\n",
      "\n",
      "[372 rows x 2 columns]\n"
     ]
    }
   ],
   "source": [
    "#make the 2021 data into one columns\n",
    "newdata6=data6.melt('Day', value_name='Weather').drop('variable', axis=1)\n",
    "print(newdata6)"
   ]
  },
  {
   "cell_type": "code",
   "execution_count": 16,
   "metadata": {
    "colab": {
     "base_uri": "https://localhost:8080/"
    },
    "id": "am3tWKnHJdkk",
    "outputId": "01ea966b-0b9f-4f04-d246-7f784e5e7665"
   },
   "outputs": [
    {
     "name": "stdout",
     "output_type": "stream",
     "text": [
      "     Day    Weather\n",
      "0      1  25.444444\n",
      "1      2  24.611111\n",
      "2      3  25.055556\n",
      "3      4  25.444444\n",
      "4      5  27.000000\n",
      "..   ...        ...\n",
      "367   27  25.055556\n",
      "368   28  25.722222\n",
      "369   29  24.333333\n",
      "370   30  26.444444\n",
      "371   31  26.222222\n",
      "\n",
      "[372 rows x 2 columns]\n"
     ]
    }
   ],
   "source": [
    "#make the 2022 data into one columns\n",
    "newdata7=data7.melt('Day', value_name='Weather').drop('variable', axis=1)\n",
    "print(newdata7)"
   ]
  },
  {
   "cell_type": "code",
   "execution_count": 17,
   "metadata": {
    "colab": {
     "base_uri": "https://localhost:8080/"
    },
    "id": "HAq6kLRNJj3D",
    "outputId": "60018b80-a81c-41ca-f0cd-ca339f68b628"
   },
   "outputs": [
    {
     "name": "stdout",
     "output_type": "stream",
     "text": [
      "     Day    Weather\n",
      "0      1  24.611111\n",
      "1      2  24.333333\n",
      "2      3  23.055556\n",
      "3      4  23.388889\n",
      "4      5  25.611111\n",
      "..   ...        ...\n",
      "739   27  25.055556\n",
      "740   28  25.722222\n",
      "741   29  24.333333\n",
      "742   30  26.444444\n",
      "743   31  26.222222\n",
      "\n",
      "[744 rows x 2 columns]\n"
     ]
    }
   ],
   "source": [
    "#Merge Weather Data\n",
    "weatherdata=pd.concat([newdata6,newdata7], ignore_index=True)\n",
    "print(weatherdata)"
   ]
  },
  {
   "cell_type": "code",
   "execution_count": 18,
   "metadata": {
    "colab": {
     "base_uri": "https://localhost:8080/"
    },
    "id": "LWJTGUHcKnZ_",
    "outputId": "51d39945-9ad4-4b12-bb55-24f64a57794f"
   },
   "outputs": [
    {
     "name": "stdout",
     "output_type": "stream",
     "text": [
      "     Day Rainfall WaterLevel  StreamFlow    Weather\n",
      "0    1.0     26.0      25.52      719.41  24.611111\n",
      "1    2.0     36.0      27.71     2133.23  24.333333\n",
      "2    3.0    125.0      28.95     2999.71  23.055556\n",
      "3    4.0      3.5      31.84     4965.74  23.388889\n",
      "4    5.0     36.0      33.13     5845.11  25.611111\n",
      "..   ...      ...        ...         ...        ...\n",
      "787  NaN      NaN        NaN      688.34        NaN\n",
      "788  NaN      NaN        NaN      621.39        NaN\n",
      "789  NaN      NaN        NaN      555.18        NaN\n",
      "790  NaN      NaN        NaN         NaN        NaN\n",
      "791  NaN      NaN        NaN         NaN        NaN\n",
      "\n",
      "[792 rows x 5 columns]\n"
     ]
    }
   ],
   "source": [
    "#Merge All Data\n",
    "waterleveldata1=waterleveldata.drop(columns=['Day'])\n",
    "streamflowdata1=streamflowdata.drop(columns=['Day'])\n",
    "weatherdata1=weatherdata.drop(columns=['Day'])\n",
    "alldata=pd.concat([rainfalldata,waterleveldata1,streamflowdata1,weatherdata1], axis=1)\n",
    "print(alldata)"
   ]
  },
  {
   "cell_type": "markdown",
   "metadata": {
    "id": "sV6kbdpuR7Cn"
   },
   "source": [
    "3.0 Data Preprocessing"
   ]
  },
  {
   "cell_type": "code",
   "execution_count": 19,
   "metadata": {
    "colab": {
     "base_uri": "https://localhost:8080/"
    },
    "id": "QxzMWcrVbENq",
    "outputId": "9f48b20f-63a7-4a42-d950-07f30db3a570"
   },
   "outputs": [
    {
     "data": {
      "text/plain": [
       "Day           48\n",
       "Rainfall      62\n",
       "WaterLevel    62\n",
       "StreamFlow    62\n",
       "Weather       62\n",
       "dtype: int64"
      ]
     },
     "execution_count": 19,
     "metadata": {},
     "output_type": "execute_result"
    }
   ],
   "source": [
    "# Check for null data\n",
    "alldata.isnull().sum()"
   ]
  },
  {
   "cell_type": "code",
   "execution_count": 20,
   "metadata": {
    "colab": {
     "base_uri": "https://localhost:8080/",
     "height": 1000
    },
    "id": "-AhdWn9pNUjg",
    "outputId": "81a9c33c-3a86-4edd-8855-d06b34282d28"
   },
   "outputs": [
    {
     "data": {
      "text/html": [
       "<div>\n",
       "<style scoped>\n",
       "    .dataframe tbody tr th:only-of-type {\n",
       "        vertical-align: middle;\n",
       "    }\n",
       "\n",
       "    .dataframe tbody tr th {\n",
       "        vertical-align: top;\n",
       "    }\n",
       "\n",
       "    .dataframe thead th {\n",
       "        text-align: right;\n",
       "    }\n",
       "</style>\n",
       "<table border=\"1\" class=\"dataframe\">\n",
       "  <thead>\n",
       "    <tr style=\"text-align: right;\">\n",
       "      <th></th>\n",
       "      <th>Day</th>\n",
       "      <th>Rainfall</th>\n",
       "      <th>WaterLevel</th>\n",
       "      <th>StreamFlow</th>\n",
       "      <th>Weather</th>\n",
       "    </tr>\n",
       "  </thead>\n",
       "  <tbody>\n",
       "    <tr>\n",
       "      <th>31</th>\n",
       "      <td>1.0</td>\n",
       "      <td>20.5</td>\n",
       "      <td>25.08</td>\n",
       "      <td>NaN</td>\n",
       "      <td>25.555556</td>\n",
       "    </tr>\n",
       "    <tr>\n",
       "      <th>32</th>\n",
       "      <td>2.0</td>\n",
       "      <td>0.0</td>\n",
       "      <td>25.14</td>\n",
       "      <td>NaN</td>\n",
       "      <td>26.055556</td>\n",
       "    </tr>\n",
       "    <tr>\n",
       "      <th>59</th>\n",
       "      <td>29.0</td>\n",
       "      <td>NaN</td>\n",
       "      <td>NaN</td>\n",
       "      <td>185.15</td>\n",
       "      <td>NaN</td>\n",
       "    </tr>\n",
       "    <tr>\n",
       "      <th>60</th>\n",
       "      <td>30.0</td>\n",
       "      <td>NaN</td>\n",
       "      <td>NaN</td>\n",
       "      <td>176.92</td>\n",
       "      <td>NaN</td>\n",
       "    </tr>\n",
       "    <tr>\n",
       "      <th>61</th>\n",
       "      <td>31.0</td>\n",
       "      <td>NaN</td>\n",
       "      <td>NaN</td>\n",
       "      <td>NaN</td>\n",
       "      <td>NaN</td>\n",
       "    </tr>\n",
       "    <tr>\n",
       "      <th>...</th>\n",
       "      <td>...</td>\n",
       "      <td>...</td>\n",
       "      <td>...</td>\n",
       "      <td>...</td>\n",
       "      <td>...</td>\n",
       "    </tr>\n",
       "    <tr>\n",
       "      <th>787</th>\n",
       "      <td>NaN</td>\n",
       "      <td>NaN</td>\n",
       "      <td>NaN</td>\n",
       "      <td>688.34</td>\n",
       "      <td>NaN</td>\n",
       "    </tr>\n",
       "    <tr>\n",
       "      <th>788</th>\n",
       "      <td>NaN</td>\n",
       "      <td>NaN</td>\n",
       "      <td>NaN</td>\n",
       "      <td>621.39</td>\n",
       "      <td>NaN</td>\n",
       "    </tr>\n",
       "    <tr>\n",
       "      <th>789</th>\n",
       "      <td>NaN</td>\n",
       "      <td>NaN</td>\n",
       "      <td>NaN</td>\n",
       "      <td>555.18</td>\n",
       "      <td>NaN</td>\n",
       "    </tr>\n",
       "    <tr>\n",
       "      <th>790</th>\n",
       "      <td>NaN</td>\n",
       "      <td>NaN</td>\n",
       "      <td>NaN</td>\n",
       "      <td>NaN</td>\n",
       "      <td>NaN</td>\n",
       "    </tr>\n",
       "    <tr>\n",
       "      <th>791</th>\n",
       "      <td>NaN</td>\n",
       "      <td>NaN</td>\n",
       "      <td>NaN</td>\n",
       "      <td>NaN</td>\n",
       "      <td>NaN</td>\n",
       "    </tr>\n",
       "  </tbody>\n",
       "</table>\n",
       "<p>118 rows × 5 columns</p>\n",
       "</div>"
      ],
      "text/plain": [
       "      Day Rainfall WaterLevel  StreamFlow    Weather\n",
       "31    1.0     20.5      25.08         NaN  25.555556\n",
       "32    2.0      0.0      25.14         NaN  26.055556\n",
       "59   29.0      NaN        NaN      185.15        NaN\n",
       "60   30.0      NaN        NaN      176.92        NaN\n",
       "61   31.0      NaN        NaN         NaN        NaN\n",
       "..    ...      ...        ...         ...        ...\n",
       "787   NaN      NaN        NaN      688.34        NaN\n",
       "788   NaN      NaN        NaN      621.39        NaN\n",
       "789   NaN      NaN        NaN      555.18        NaN\n",
       "790   NaN      NaN        NaN         NaN        NaN\n",
       "791   NaN      NaN        NaN         NaN        NaN\n",
       "\n",
       "[118 rows x 5 columns]"
      ]
     },
     "execution_count": 20,
     "metadata": {},
     "output_type": "execute_result"
    }
   ],
   "source": [
    "alldata[pd.isnull(alldata).any(axis=1)]"
   ]
  },
  {
   "cell_type": "markdown",
   "metadata": {
    "id": "6E2812IxxjCu"
   },
   "source": [
    "Actually, there is not necessary all considered as missing data, since every month has a different number of days and it will detects as missing data."
   ]
  },
  {
   "cell_type": "code",
   "execution_count": 21,
   "metadata": {
    "colab": {
     "base_uri": "https://localhost:8080/",
     "height": 708
    },
    "id": "PYEUE3wtPirM",
    "outputId": "edd189d5-49ac-4c25-a2f5-7bb598f7d541"
   },
   "outputs": [
    {
     "data": {
      "text/html": [
       "<div>\n",
       "<style scoped>\n",
       "    .dataframe tbody tr th:only-of-type {\n",
       "        vertical-align: middle;\n",
       "    }\n",
       "\n",
       "    .dataframe tbody tr th {\n",
       "        vertical-align: top;\n",
       "    }\n",
       "\n",
       "    .dataframe thead th {\n",
       "        text-align: right;\n",
       "    }\n",
       "</style>\n",
       "<table border=\"1\" class=\"dataframe\">\n",
       "  <thead>\n",
       "    <tr style=\"text-align: right;\">\n",
       "      <th></th>\n",
       "      <th>Day</th>\n",
       "      <th>Rainfall</th>\n",
       "      <th>WaterLevel</th>\n",
       "      <th>StreamFlow</th>\n",
       "      <th>Weather</th>\n",
       "    </tr>\n",
       "  </thead>\n",
       "  <tbody>\n",
       "    <tr>\n",
       "      <th>31</th>\n",
       "      <td>1.0</td>\n",
       "      <td>20.5</td>\n",
       "      <td>25.08</td>\n",
       "      <td>NaN</td>\n",
       "      <td>25.555556</td>\n",
       "    </tr>\n",
       "    <tr>\n",
       "      <th>32</th>\n",
       "      <td>2.0</td>\n",
       "      <td>0.0</td>\n",
       "      <td>25.14</td>\n",
       "      <td>NaN</td>\n",
       "      <td>26.055556</td>\n",
       "    </tr>\n",
       "    <tr>\n",
       "      <th>62</th>\n",
       "      <td>1.0</td>\n",
       "      <td>0.0</td>\n",
       "      <td>?</td>\n",
       "      <td>NaN</td>\n",
       "      <td>27.444444</td>\n",
       "    </tr>\n",
       "    <tr>\n",
       "      <th>63</th>\n",
       "      <td>2.0</td>\n",
       "      <td>0.0</td>\n",
       "      <td>24.1</td>\n",
       "      <td>NaN</td>\n",
       "      <td>27.055556</td>\n",
       "    </tr>\n",
       "    <tr>\n",
       "      <th>64</th>\n",
       "      <td>3.0</td>\n",
       "      <td>0.0</td>\n",
       "      <td>24.15</td>\n",
       "      <td>NaN</td>\n",
       "      <td>27.222222</td>\n",
       "    </tr>\n",
       "    <tr>\n",
       "      <th>65</th>\n",
       "      <td>4.0</td>\n",
       "      <td>2.0</td>\n",
       "      <td>24.05</td>\n",
       "      <td>NaN</td>\n",
       "      <td>27.500000</td>\n",
       "    </tr>\n",
       "    <tr>\n",
       "      <th>97</th>\n",
       "      <td>5.0</td>\n",
       "      <td>2.0</td>\n",
       "      <td>24.6</td>\n",
       "      <td>NaN</td>\n",
       "      <td>26.555556</td>\n",
       "    </tr>\n",
       "    <tr>\n",
       "      <th>98</th>\n",
       "      <td>6.0</td>\n",
       "      <td>0.0</td>\n",
       "      <td>24.53</td>\n",
       "      <td>NaN</td>\n",
       "      <td>27.555556</td>\n",
       "    </tr>\n",
       "    <tr>\n",
       "      <th>129</th>\n",
       "      <td>6.0</td>\n",
       "      <td>0.5</td>\n",
       "      <td>25.13</td>\n",
       "      <td>NaN</td>\n",
       "      <td>26.833333</td>\n",
       "    </tr>\n",
       "    <tr>\n",
       "      <th>130</th>\n",
       "      <td>7.0</td>\n",
       "      <td>0.0</td>\n",
       "      <td>25.25</td>\n",
       "      <td>NaN</td>\n",
       "      <td>27.388889</td>\n",
       "    </tr>\n",
       "    <tr>\n",
       "      <th>131</th>\n",
       "      <td>8.0</td>\n",
       "      <td>0.0</td>\n",
       "      <td>25.3</td>\n",
       "      <td>NaN</td>\n",
       "      <td>28.166667</td>\n",
       "    </tr>\n",
       "    <tr>\n",
       "      <th>163</th>\n",
       "      <td>9.0</td>\n",
       "      <td>1.0</td>\n",
       "      <td>24.1</td>\n",
       "      <td>NaN</td>\n",
       "      <td>27.333333</td>\n",
       "    </tr>\n",
       "    <tr>\n",
       "      <th>164</th>\n",
       "      <td>10.0</td>\n",
       "      <td>1.5</td>\n",
       "      <td>24.04</td>\n",
       "      <td>NaN</td>\n",
       "      <td>26.777778</td>\n",
       "    </tr>\n",
       "    <tr>\n",
       "      <th>195</th>\n",
       "      <td>10.0</td>\n",
       "      <td>5.0</td>\n",
       "      <td>24.22</td>\n",
       "      <td>NaN</td>\n",
       "      <td>26.500000</td>\n",
       "    </tr>\n",
       "    <tr>\n",
       "      <th>196</th>\n",
       "      <td>11.0</td>\n",
       "      <td>4.5</td>\n",
       "      <td>24.35</td>\n",
       "      <td>NaN</td>\n",
       "      <td>25.500000</td>\n",
       "    </tr>\n",
       "    <tr>\n",
       "      <th>197</th>\n",
       "      <td>12.0</td>\n",
       "      <td>35.0</td>\n",
       "      <td>26.21</td>\n",
       "      <td>NaN</td>\n",
       "      <td>26.555556</td>\n",
       "    </tr>\n",
       "    <tr>\n",
       "      <th>229</th>\n",
       "      <td>13.0</td>\n",
       "      <td>0.0</td>\n",
       "      <td>23.84</td>\n",
       "      <td>NaN</td>\n",
       "      <td>28.222222</td>\n",
       "    </tr>\n",
       "    <tr>\n",
       "      <th>230</th>\n",
       "      <td>14.0</td>\n",
       "      <td>0.0</td>\n",
       "      <td>23.76</td>\n",
       "      <td>NaN</td>\n",
       "      <td>28.222222</td>\n",
       "    </tr>\n",
       "    <tr>\n",
       "      <th>262</th>\n",
       "      <td>15.0</td>\n",
       "      <td>1.5</td>\n",
       "      <td>24.2</td>\n",
       "      <td>NaN</td>\n",
       "      <td>26.444444</td>\n",
       "    </tr>\n",
       "    <tr>\n",
       "      <th>263</th>\n",
       "      <td>16.0</td>\n",
       "      <td>0.0</td>\n",
       "      <td>24.03</td>\n",
       "      <td>NaN</td>\n",
       "      <td>27.833333</td>\n",
       "    </tr>\n",
       "    <tr>\n",
       "      <th>294</th>\n",
       "      <td>16.0</td>\n",
       "      <td>0</td>\n",
       "      <td>23.37</td>\n",
       "      <td>NaN</td>\n",
       "      <td>29.388889</td>\n",
       "    </tr>\n",
       "    <tr>\n",
       "      <th>295</th>\n",
       "      <td>17.0</td>\n",
       "      <td>9.5</td>\n",
       "      <td>23.33</td>\n",
       "      <td>NaN</td>\n",
       "      <td>26.277778</td>\n",
       "    </tr>\n",
       "    <tr>\n",
       "      <th>296</th>\n",
       "      <td>18.0</td>\n",
       "      <td>0</td>\n",
       "      <td>23.34</td>\n",
       "      <td>NaN</td>\n",
       "      <td>27.555556</td>\n",
       "    </tr>\n",
       "    <tr>\n",
       "      <th>328</th>\n",
       "      <td>19.0</td>\n",
       "      <td>12.0</td>\n",
       "      <td>27.16</td>\n",
       "      <td>NaN</td>\n",
       "      <td>26.277778</td>\n",
       "    </tr>\n",
       "    <tr>\n",
       "      <th>329</th>\n",
       "      <td>20.0</td>\n",
       "      <td>37.5</td>\n",
       "      <td>26.56</td>\n",
       "      <td>NaN</td>\n",
       "      <td>27.722222</td>\n",
       "    </tr>\n",
       "    <tr>\n",
       "      <th>360</th>\n",
       "      <td>20.0</td>\n",
       "      <td>0.0</td>\n",
       "      <td>33.56</td>\n",
       "      <td>NaN</td>\n",
       "      <td>25.944444</td>\n",
       "    </tr>\n",
       "    <tr>\n",
       "      <th>361</th>\n",
       "      <td>21.0</td>\n",
       "      <td>1.5</td>\n",
       "      <td>34.34</td>\n",
       "      <td>NaN</td>\n",
       "      <td>26.888889</td>\n",
       "    </tr>\n",
       "    <tr>\n",
       "      <th>362</th>\n",
       "      <td>22.0</td>\n",
       "      <td>41.0</td>\n",
       "      <td>34.59</td>\n",
       "      <td>NaN</td>\n",
       "      <td>26.388889</td>\n",
       "    </tr>\n",
       "    <tr>\n",
       "      <th>394</th>\n",
       "      <td>23.0</td>\n",
       "      <td>0.0</td>\n",
       "      <td>24.53</td>\n",
       "      <td>NaN</td>\n",
       "      <td>26.777778</td>\n",
       "    </tr>\n",
       "    <tr>\n",
       "      <th>395</th>\n",
       "      <td>24.0</td>\n",
       "      <td>1.0</td>\n",
       "      <td>24.48</td>\n",
       "      <td>NaN</td>\n",
       "      <td>26.555556</td>\n",
       "    </tr>\n",
       "    <tr>\n",
       "      <th>427</th>\n",
       "      <td>25.0</td>\n",
       "      <td>0.5</td>\n",
       "      <td>24.24</td>\n",
       "      <td>NaN</td>\n",
       "      <td>23.833333</td>\n",
       "    </tr>\n",
       "    <tr>\n",
       "      <th>428</th>\n",
       "      <td>26.0</td>\n",
       "      <td>0.0</td>\n",
       "      <td>25.54</td>\n",
       "      <td>NaN</td>\n",
       "      <td>25.722222</td>\n",
       "    </tr>\n",
       "    <tr>\n",
       "      <th>457</th>\n",
       "      <td>24.0</td>\n",
       "      <td>0.0</td>\n",
       "      <td>24.78</td>\n",
       "      <td>NaN</td>\n",
       "      <td>27.666667</td>\n",
       "    </tr>\n",
       "    <tr>\n",
       "      <th>458</th>\n",
       "      <td>25.0</td>\n",
       "      <td>0.0</td>\n",
       "      <td>25.21</td>\n",
       "      <td>NaN</td>\n",
       "      <td>28.333333</td>\n",
       "    </tr>\n",
       "    <tr>\n",
       "      <th>459</th>\n",
       "      <td>26.0</td>\n",
       "      <td>1.0</td>\n",
       "      <td>25.34</td>\n",
       "      <td>NaN</td>\n",
       "      <td>27.944444</td>\n",
       "    </tr>\n",
       "    <tr>\n",
       "      <th>460</th>\n",
       "      <td>27.0</td>\n",
       "      <td>0.0</td>\n",
       "      <td>25.25</td>\n",
       "      <td>NaN</td>\n",
       "      <td>26.611111</td>\n",
       "    </tr>\n",
       "    <tr>\n",
       "      <th>461</th>\n",
       "      <td>28.0</td>\n",
       "      <td>0.0</td>\n",
       "      <td>25.48</td>\n",
       "      <td>NaN</td>\n",
       "      <td>27.500000</td>\n",
       "    </tr>\n",
       "    <tr>\n",
       "      <th>493</th>\n",
       "      <td>29.0</td>\n",
       "      <td>21.5</td>\n",
       "      <td>24.81</td>\n",
       "      <td>NaN</td>\n",
       "      <td>28.055556</td>\n",
       "    </tr>\n",
       "    <tr>\n",
       "      <th>494</th>\n",
       "      <td>30.0</td>\n",
       "      <td>0.0</td>\n",
       "      <td>24.81</td>\n",
       "      <td>NaN</td>\n",
       "      <td>27.666667</td>\n",
       "    </tr>\n",
       "    <tr>\n",
       "      <th>525</th>\n",
       "      <td>30.0</td>\n",
       "      <td>0.0</td>\n",
       "      <td>24.25</td>\n",
       "      <td>NaN</td>\n",
       "      <td>28.500000</td>\n",
       "    </tr>\n",
       "    <tr>\n",
       "      <th>526</th>\n",
       "      <td>31.0</td>\n",
       "      <td>1.0</td>\n",
       "      <td>24.13</td>\n",
       "      <td>NaN</td>\n",
       "      <td>28.333333</td>\n",
       "    </tr>\n",
       "    <tr>\n",
       "      <th>527</th>\n",
       "      <td>1.0</td>\n",
       "      <td>2.0</td>\n",
       "      <td>24.07</td>\n",
       "      <td>NaN</td>\n",
       "      <td>26.944444</td>\n",
       "    </tr>\n",
       "    <tr>\n",
       "      <th>559</th>\n",
       "      <td>2.0</td>\n",
       "      <td>0.0</td>\n",
       "      <td>24.3</td>\n",
       "      <td>NaN</td>\n",
       "      <td>29.111111</td>\n",
       "    </tr>\n",
       "    <tr>\n",
       "      <th>560</th>\n",
       "      <td>3.0</td>\n",
       "      <td>0.0</td>\n",
       "      <td>24.01</td>\n",
       "      <td>NaN</td>\n",
       "      <td>29.444444</td>\n",
       "    </tr>\n",
       "    <tr>\n",
       "      <th>591</th>\n",
       "      <td>3.0</td>\n",
       "      <td>2.0</td>\n",
       "      <td>23.93</td>\n",
       "      <td>NaN</td>\n",
       "      <td>26.333333</td>\n",
       "    </tr>\n",
       "    <tr>\n",
       "      <th>592</th>\n",
       "      <td>4.0</td>\n",
       "      <td>1.0</td>\n",
       "      <td>24.4</td>\n",
       "      <td>NaN</td>\n",
       "      <td>26.166667</td>\n",
       "    </tr>\n",
       "    <tr>\n",
       "      <th>593</th>\n",
       "      <td>5.0</td>\n",
       "      <td>0.0</td>\n",
       "      <td>24.43</td>\n",
       "      <td>NaN</td>\n",
       "      <td>27.055556</td>\n",
       "    </tr>\n",
       "    <tr>\n",
       "      <th>625</th>\n",
       "      <td>6.0</td>\n",
       "      <td>0.5</td>\n",
       "      <td>24.62</td>\n",
       "      <td>NaN</td>\n",
       "      <td>27.500000</td>\n",
       "    </tr>\n",
       "    <tr>\n",
       "      <th>626</th>\n",
       "      <td>7.0</td>\n",
       "      <td>20.5</td>\n",
       "      <td>24.33</td>\n",
       "      <td>NaN</td>\n",
       "      <td>26.500000</td>\n",
       "    </tr>\n",
       "    <tr>\n",
       "      <th>658</th>\n",
       "      <td>8.0</td>\n",
       "      <td>3.5</td>\n",
       "      <td>24.97</td>\n",
       "      <td>NaN</td>\n",
       "      <td>25.833333</td>\n",
       "    </tr>\n",
       "    <tr>\n",
       "      <th>659</th>\n",
       "      <td>9.0</td>\n",
       "      <td>32.0</td>\n",
       "      <td>26.34</td>\n",
       "      <td>NaN</td>\n",
       "      <td>26.666667</td>\n",
       "    </tr>\n",
       "    <tr>\n",
       "      <th>690</th>\n",
       "      <td>9.0</td>\n",
       "      <td>0.0</td>\n",
       "      <td>26.65</td>\n",
       "      <td>NaN</td>\n",
       "      <td>25.222222</td>\n",
       "    </tr>\n",
       "    <tr>\n",
       "      <th>691</th>\n",
       "      <td>10.0</td>\n",
       "      <td>4.0</td>\n",
       "      <td>26.39</td>\n",
       "      <td>NaN</td>\n",
       "      <td>25.777778</td>\n",
       "    </tr>\n",
       "    <tr>\n",
       "      <th>692</th>\n",
       "      <td>11.0</td>\n",
       "      <td>9.0</td>\n",
       "      <td>25.93</td>\n",
       "      <td>NaN</td>\n",
       "      <td>25.555556</td>\n",
       "    </tr>\n",
       "    <tr>\n",
       "      <th>724</th>\n",
       "      <td>12.0</td>\n",
       "      <td>1.0</td>\n",
       "      <td>28.71</td>\n",
       "      <td>NaN</td>\n",
       "      <td>25.277778</td>\n",
       "    </tr>\n",
       "    <tr>\n",
       "      <th>725</th>\n",
       "      <td>13.0</td>\n",
       "      <td>13.0</td>\n",
       "      <td>28.62</td>\n",
       "      <td>NaN</td>\n",
       "      <td>24.333333</td>\n",
       "    </tr>\n",
       "  </tbody>\n",
       "</table>\n",
       "</div>"
      ],
      "text/plain": [
       "      Day Rainfall WaterLevel  StreamFlow    Weather\n",
       "31    1.0     20.5      25.08         NaN  25.555556\n",
       "32    2.0      0.0      25.14         NaN  26.055556\n",
       "62    1.0      0.0          ?         NaN  27.444444\n",
       "63    2.0      0.0       24.1         NaN  27.055556\n",
       "64    3.0      0.0      24.15         NaN  27.222222\n",
       "65    4.0      2.0      24.05         NaN  27.500000\n",
       "97    5.0      2.0       24.6         NaN  26.555556\n",
       "98    6.0      0.0      24.53         NaN  27.555556\n",
       "129   6.0      0.5      25.13         NaN  26.833333\n",
       "130   7.0      0.0      25.25         NaN  27.388889\n",
       "131   8.0      0.0       25.3         NaN  28.166667\n",
       "163   9.0      1.0       24.1         NaN  27.333333\n",
       "164  10.0      1.5      24.04         NaN  26.777778\n",
       "195  10.0      5.0      24.22         NaN  26.500000\n",
       "196  11.0      4.5      24.35         NaN  25.500000\n",
       "197  12.0     35.0      26.21         NaN  26.555556\n",
       "229  13.0      0.0      23.84         NaN  28.222222\n",
       "230  14.0      0.0      23.76         NaN  28.222222\n",
       "262  15.0      1.5       24.2         NaN  26.444444\n",
       "263  16.0      0.0      24.03         NaN  27.833333\n",
       "294  16.0        0      23.37         NaN  29.388889\n",
       "295  17.0      9.5      23.33         NaN  26.277778\n",
       "296  18.0        0      23.34         NaN  27.555556\n",
       "328  19.0     12.0      27.16         NaN  26.277778\n",
       "329  20.0     37.5      26.56         NaN  27.722222\n",
       "360  20.0      0.0      33.56         NaN  25.944444\n",
       "361  21.0      1.5      34.34         NaN  26.888889\n",
       "362  22.0     41.0      34.59         NaN  26.388889\n",
       "394  23.0      0.0      24.53         NaN  26.777778\n",
       "395  24.0      1.0      24.48         NaN  26.555556\n",
       "427  25.0      0.5      24.24         NaN  23.833333\n",
       "428  26.0      0.0      25.54         NaN  25.722222\n",
       "457  24.0      0.0      24.78         NaN  27.666667\n",
       "458  25.0      0.0      25.21         NaN  28.333333\n",
       "459  26.0      1.0      25.34         NaN  27.944444\n",
       "460  27.0      0.0      25.25         NaN  26.611111\n",
       "461  28.0      0.0      25.48         NaN  27.500000\n",
       "493  29.0     21.5      24.81         NaN  28.055556\n",
       "494  30.0      0.0      24.81         NaN  27.666667\n",
       "525  30.0      0.0      24.25         NaN  28.500000\n",
       "526  31.0      1.0      24.13         NaN  28.333333\n",
       "527   1.0      2.0      24.07         NaN  26.944444\n",
       "559   2.0      0.0       24.3         NaN  29.111111\n",
       "560   3.0      0.0      24.01         NaN  29.444444\n",
       "591   3.0      2.0      23.93         NaN  26.333333\n",
       "592   4.0      1.0       24.4         NaN  26.166667\n",
       "593   5.0      0.0      24.43         NaN  27.055556\n",
       "625   6.0      0.5      24.62         NaN  27.500000\n",
       "626   7.0     20.5      24.33         NaN  26.500000\n",
       "658   8.0      3.5      24.97         NaN  25.833333\n",
       "659   9.0     32.0      26.34         NaN  26.666667\n",
       "690   9.0      0.0      26.65         NaN  25.222222\n",
       "691  10.0      4.0      26.39         NaN  25.777778\n",
       "692  11.0      9.0      25.93         NaN  25.555556\n",
       "724  12.0      1.0      28.71         NaN  25.277778\n",
       "725  13.0     13.0      28.62         NaN  24.333333"
      ]
     },
     "execution_count": 21,
     "metadata": {},
     "output_type": "execute_result"
    }
   ],
   "source": [
    "#Drop wrong day row missing data\n",
    "alldata.dropna(subset = ['Weather'], inplace=True)\n",
    "alldata[pd.isnull(alldata).any(axis=1)]"
   ]
  },
  {
   "cell_type": "code",
   "execution_count": 22,
   "metadata": {
    "colab": {
     "base_uri": "https://localhost:8080/"
    },
    "id": "dUt9c_lYxNla",
    "outputId": "1813befd-8062-480f-d19c-f48b72cdbd76"
   },
   "outputs": [
    {
     "name": "stdout",
     "output_type": "stream",
     "text": [
      "0     1.0\n",
      "1     2.0\n",
      "2     3.0\n",
      "3     4.0\n",
      "4     5.0\n",
      "5     6.0\n",
      "6     7.0\n",
      "7     8.0\n",
      "8     9.0\n",
      "9     2.0\n",
      "10    3.0\n",
      "11    4.0\n",
      "12    5.0\n",
      "13    6.0\n",
      "14    7.0\n",
      "15    8.0\n",
      "16    9.0\n",
      "Name: Day, dtype: float64\n"
     ]
    }
   ],
   "source": [
    "#WaterLevel Interpolation\n",
    "#Merge Feb available data & March first 9 days data for interpolation\n",
    "FebDay=alldata.iloc[31:40, 0]\n",
    "MarDay=alldata.iloc[60:68,0]\n",
    "\n",
    "daydata=pd.concat([FebDay,MarDay], ignore_index=True)\n",
    "print(daydata)"
   ]
  },
  {
   "cell_type": "code",
   "execution_count": 23,
   "metadata": {
    "colab": {
     "base_uri": "https://localhost:8080/"
    },
    "id": "_e2595_IvlEu",
    "outputId": "129b47b3-7c42-45d2-b2dd-5c0479fb806d"
   },
   "outputs": [
    {
     "name": "stdout",
     "output_type": "stream",
     "text": [
      "0     25.08\n",
      "1     25.14\n",
      "2     25.25\n",
      "3     25.12\n",
      "4     24.93\n",
      "5     24.78\n",
      "6     24.71\n",
      "7     24.69\n",
      "8     24.67\n",
      "9      24.1\n",
      "10    24.15\n",
      "11    24.05\n",
      "12    23.99\n",
      "13    23.95\n",
      "14       24\n",
      "15    24.07\n",
      "16    23.99\n",
      "Name: WaterLevel, dtype: object\n"
     ]
    }
   ],
   "source": [
    "#Merge Feb available data & March first 9 days data for interpolation\n",
    "FebWaterLevel=alldata.iloc[31:40, 2]\n",
    "MarWaterLevel=alldata.iloc[60:68,2]\n",
    "#print(MarDay)\n",
    "interpolatedata=pd.concat([FebWaterLevel,MarWaterLevel], ignore_index=True)\n",
    "print(interpolatedata)"
   ]
  },
  {
   "cell_type": "code",
   "execution_count": 24,
   "metadata": {
    "colab": {
     "base_uri": "https://localhost:8080/"
    },
    "id": "f9XzrCeGvk8y",
    "outputId": "0be269dc-e5b6-41e2-d74c-6ac2f6138d41"
   },
   "outputs": [
    {
     "name": "stdout",
     "output_type": "stream",
     "text": [
      "24.37\n"
     ]
    }
   ],
   "source": [
    "#Linear Interpolation for missing value in Water Level\n",
    "import scipy.interpolate\n",
    "\n",
    "x=daydata\n",
    "y=interpolatedata\n",
    "y_interp = scipy.interpolate.interp1d(x, y)\n",
    "\n",
    "#find y-value associated with x-value of 8.5 which is in between February and March data\n",
    "print(y_interp(8.5))"
   ]
  },
  {
   "cell_type": "code",
   "execution_count": 25,
   "metadata": {
    "colab": {
     "base_uri": "https://localhost:8080/"
    },
    "id": "w4ub1J6KyBvw",
    "outputId": "fb92b74e-86f2-4693-afd2-3d9298ec6d39"
   },
   "outputs": [
    {
     "name": "stdout",
     "output_type": "stream",
     "text": [
      "40    24.37\n",
      "41    24.37\n",
      "42    24.37\n",
      "43    24.37\n",
      "44    24.37\n",
      "45    24.37\n",
      "46    24.37\n",
      "47    24.37\n",
      "48    24.37\n",
      "49    24.37\n",
      "50    24.37\n",
      "51    24.37\n",
      "52    24.37\n",
      "53    24.37\n",
      "54    24.37\n",
      "55    24.37\n",
      "56    24.37\n",
      "57    24.37\n",
      "58    24.37\n",
      "62    24.37\n",
      "Name: WaterLevel, dtype: object\n"
     ]
    }
   ],
   "source": [
    "#Replace missing data with Linear Interpolation value\n",
    "alldata.iloc[40:60, 2] = y_interp(8.5)\n",
    "print(alldata.iloc[40:60, 2])"
   ]
  },
  {
   "cell_type": "code",
   "execution_count": 26,
   "metadata": {},
   "outputs": [],
   "source": [
    "#Use this mask to filter and detect the question mark symbol (?)\n",
    "def contains_question_mark(cell):\n",
    "    return '?' in str(cell)\n",
    "\n",
    "# Apply the function to the entire DataFrame\n",
    "mask = alldata.applymap(contains_question_mark)"
   ]
  },
  {
   "cell_type": "code",
   "execution_count": 27,
   "metadata": {},
   "outputs": [
    {
     "data": {
      "text/html": [
       "<div>\n",
       "<style scoped>\n",
       "    .dataframe tbody tr th:only-of-type {\n",
       "        vertical-align: middle;\n",
       "    }\n",
       "\n",
       "    .dataframe tbody tr th {\n",
       "        vertical-align: top;\n",
       "    }\n",
       "\n",
       "    .dataframe thead th {\n",
       "        text-align: right;\n",
       "    }\n",
       "</style>\n",
       "<table border=\"1\" class=\"dataframe\">\n",
       "  <thead>\n",
       "    <tr style=\"text-align: right;\">\n",
       "      <th></th>\n",
       "      <th>Day</th>\n",
       "      <th>Rainfall</th>\n",
       "      <th>WaterLevel</th>\n",
       "      <th>StreamFlow</th>\n",
       "      <th>Weather</th>\n",
       "    </tr>\n",
       "  </thead>\n",
       "  <tbody>\n",
       "    <tr>\n",
       "      <th>289</th>\n",
       "      <td>11.0</td>\n",
       "      <td>?</td>\n",
       "      <td>23.72</td>\n",
       "      <td>166.59</td>\n",
       "      <td>28.833333</td>\n",
       "    </tr>\n",
       "  </tbody>\n",
       "</table>\n",
       "</div>"
      ],
      "text/plain": [
       "      Day Rainfall WaterLevel  StreamFlow    Weather\n",
       "289  11.0        ?      23.72      166.59  28.833333"
      ]
     },
     "execution_count": 27,
     "metadata": {},
     "output_type": "execute_result"
    }
   ],
   "source": [
    "rows_with_question_mark = alldata[mask.any(axis=1)]\n",
    "rows_with_question_mark"
   ]
  },
  {
   "cell_type": "code",
   "execution_count": 28,
   "metadata": {},
   "outputs": [
    {
     "data": {
      "text/plain": [
       "1"
      ]
     },
     "execution_count": 28,
     "metadata": {},
     "output_type": "execute_result"
    }
   ],
   "source": [
    "count_question_marks = mask.values.sum()\n",
    "count_question_marks"
   ]
  },
  {
   "cell_type": "code",
   "execution_count": 29,
   "metadata": {},
   "outputs": [],
   "source": [
    "alldata.replace('?', np.nan, inplace=True)"
   ]
  },
  {
   "cell_type": "code",
   "execution_count": 30,
   "metadata": {
    "id": "SosoeMC38NEQ"
   },
   "outputs": [],
   "source": [
    "#Replace missing rainfall data with 0\n",
    "alldata.fillna(0, inplace = True)"
   ]
  },
  {
   "cell_type": "code",
   "execution_count": 31,
   "metadata": {
    "colab": {
     "base_uri": "https://localhost:8080/"
    },
    "id": "UzlGSYx5yqPr",
    "outputId": "1c4851b9-0af5-48ea-a06a-2547dc8c854f"
   },
   "outputs": [
    {
     "data": {
      "text/plain": [
       "Day           0\n",
       "Rainfall      0\n",
       "WaterLevel    0\n",
       "StreamFlow    0\n",
       "Weather       0\n",
       "dtype: int64"
      ]
     },
     "execution_count": 31,
     "metadata": {},
     "output_type": "execute_result"
    }
   ],
   "source": [
    "#Recheck for missing value\n",
    "alldata.isnull().sum()"
   ]
  },
  {
   "cell_type": "code",
   "execution_count": 32,
   "metadata": {
    "id": "-aOkKqcsBwnK"
   },
   "outputs": [],
   "source": [
    "#export the complete dataset to csv\n",
    "alldata.to_csv('AllData.csv', index=False)"
   ]
  },
  {
   "cell_type": "code",
   "execution_count": 33,
   "metadata": {},
   "outputs": [],
   "source": [
    "# Import the complete dataset\n",
    "newdata = pd.read_csv('AllData.csv')"
   ]
  },
  {
   "cell_type": "code",
   "execution_count": 34,
   "metadata": {},
   "outputs": [
    {
     "name": "stdout",
     "output_type": "stream",
     "text": [
      "<class 'pandas.core.frame.DataFrame'>\n",
      "RangeIndex: 730 entries, 0 to 729\n",
      "Data columns (total 5 columns):\n",
      " #   Column      Non-Null Count  Dtype  \n",
      "---  ------      --------------  -----  \n",
      " 0   Day         730 non-null    float64\n",
      " 1   Rainfall    730 non-null    float64\n",
      " 2   WaterLevel  730 non-null    float64\n",
      " 3   StreamFlow  730 non-null    float64\n",
      " 4   Weather     730 non-null    float64\n",
      "dtypes: float64(5)\n",
      "memory usage: 28.6 KB\n"
     ]
    }
   ],
   "source": [
    "newdata.info()"
   ]
  },
  {
   "cell_type": "code",
   "execution_count": 35,
   "metadata": {},
   "outputs": [],
   "source": [
    "# Define the threshold levels based on your domain knowledge\n",
    "thresholds = [26.00, 29.00, 31.00]\n",
    "\n",
    "# Function to classify water levels into thresholds\n",
    "def classify_water_level(water_level):\n",
    "    if water_level < thresholds[0]:\n",
    "        return 'normal'\n",
    "    elif thresholds[0] <= water_level < thresholds[1]:\n",
    "        return 'alert'\n",
    "    elif thresholds[1] <= water_level < thresholds[2]:\n",
    "        return 'warning'\n",
    "    else:\n",
    "        return 'danger'\n",
    "\n",
    "# Add a new column with the threshold labels\n",
    "newdata['Threshold'] = newdata['WaterLevel'].apply(classify_water_level)"
   ]
  },
  {
   "cell_type": "markdown",
   "metadata": {},
   "source": [
    "Since this research is about classification, so need to classify the water level by certain ranges to represent the normal, alert, warning and danger."
   ]
  },
  {
   "cell_type": "code",
   "execution_count": 36,
   "metadata": {},
   "outputs": [
    {
     "data": {
      "text/html": [
       "<div>\n",
       "<style scoped>\n",
       "    .dataframe tbody tr th:only-of-type {\n",
       "        vertical-align: middle;\n",
       "    }\n",
       "\n",
       "    .dataframe tbody tr th {\n",
       "        vertical-align: top;\n",
       "    }\n",
       "\n",
       "    .dataframe thead th {\n",
       "        text-align: right;\n",
       "    }\n",
       "</style>\n",
       "<table border=\"1\" class=\"dataframe\">\n",
       "  <thead>\n",
       "    <tr style=\"text-align: right;\">\n",
       "      <th></th>\n",
       "      <th>Day</th>\n",
       "      <th>Rainfall</th>\n",
       "      <th>WaterLevel</th>\n",
       "      <th>StreamFlow</th>\n",
       "      <th>Weather</th>\n",
       "      <th>Threshold</th>\n",
       "    </tr>\n",
       "  </thead>\n",
       "  <tbody>\n",
       "    <tr>\n",
       "      <th>0</th>\n",
       "      <td>1.0</td>\n",
       "      <td>26.0</td>\n",
       "      <td>25.52</td>\n",
       "      <td>719.41</td>\n",
       "      <td>24.611111</td>\n",
       "      <td>normal</td>\n",
       "    </tr>\n",
       "    <tr>\n",
       "      <th>1</th>\n",
       "      <td>2.0</td>\n",
       "      <td>36.0</td>\n",
       "      <td>27.71</td>\n",
       "      <td>2133.23</td>\n",
       "      <td>24.333333</td>\n",
       "      <td>alert</td>\n",
       "    </tr>\n",
       "    <tr>\n",
       "      <th>2</th>\n",
       "      <td>3.0</td>\n",
       "      <td>125.0</td>\n",
       "      <td>28.95</td>\n",
       "      <td>2999.71</td>\n",
       "      <td>23.055556</td>\n",
       "      <td>alert</td>\n",
       "    </tr>\n",
       "    <tr>\n",
       "      <th>3</th>\n",
       "      <td>4.0</td>\n",
       "      <td>3.5</td>\n",
       "      <td>31.84</td>\n",
       "      <td>4965.74</td>\n",
       "      <td>23.388889</td>\n",
       "      <td>danger</td>\n",
       "    </tr>\n",
       "    <tr>\n",
       "      <th>4</th>\n",
       "      <td>5.0</td>\n",
       "      <td>36.0</td>\n",
       "      <td>33.13</td>\n",
       "      <td>5845.11</td>\n",
       "      <td>25.611111</td>\n",
       "      <td>danger</td>\n",
       "    </tr>\n",
       "    <tr>\n",
       "      <th>...</th>\n",
       "      <td>...</td>\n",
       "      <td>...</td>\n",
       "      <td>...</td>\n",
       "      <td>...</td>\n",
       "      <td>...</td>\n",
       "      <td>...</td>\n",
       "    </tr>\n",
       "    <tr>\n",
       "      <th>725</th>\n",
       "      <td>27.0</td>\n",
       "      <td>0.0</td>\n",
       "      <td>25.96</td>\n",
       "      <td>755.32</td>\n",
       "      <td>25.055556</td>\n",
       "      <td>normal</td>\n",
       "    </tr>\n",
       "    <tr>\n",
       "      <th>726</th>\n",
       "      <td>28.0</td>\n",
       "      <td>0.0</td>\n",
       "      <td>25.67</td>\n",
       "      <td>712.40</td>\n",
       "      <td>25.722222</td>\n",
       "      <td>normal</td>\n",
       "    </tr>\n",
       "    <tr>\n",
       "      <th>727</th>\n",
       "      <td>29.0</td>\n",
       "      <td>0.0</td>\n",
       "      <td>25.47</td>\n",
       "      <td>699.56</td>\n",
       "      <td>24.333333</td>\n",
       "      <td>normal</td>\n",
       "    </tr>\n",
       "    <tr>\n",
       "      <th>728</th>\n",
       "      <td>30.0</td>\n",
       "      <td>0.0</td>\n",
       "      <td>25.32</td>\n",
       "      <td>789.36</td>\n",
       "      <td>26.444444</td>\n",
       "      <td>normal</td>\n",
       "    </tr>\n",
       "    <tr>\n",
       "      <th>729</th>\n",
       "      <td>31.0</td>\n",
       "      <td>0.0</td>\n",
       "      <td>25.18</td>\n",
       "      <td>1367.53</td>\n",
       "      <td>26.222222</td>\n",
       "      <td>normal</td>\n",
       "    </tr>\n",
       "  </tbody>\n",
       "</table>\n",
       "<p>730 rows × 6 columns</p>\n",
       "</div>"
      ],
      "text/plain": [
       "      Day  Rainfall  WaterLevel  StreamFlow    Weather Threshold\n",
       "0     1.0      26.0       25.52      719.41  24.611111    normal\n",
       "1     2.0      36.0       27.71     2133.23  24.333333     alert\n",
       "2     3.0     125.0       28.95     2999.71  23.055556     alert\n",
       "3     4.0       3.5       31.84     4965.74  23.388889    danger\n",
       "4     5.0      36.0       33.13     5845.11  25.611111    danger\n",
       "..    ...       ...         ...         ...        ...       ...\n",
       "725  27.0       0.0       25.96      755.32  25.055556    normal\n",
       "726  28.0       0.0       25.67      712.40  25.722222    normal\n",
       "727  29.0       0.0       25.47      699.56  24.333333    normal\n",
       "728  30.0       0.0       25.32      789.36  26.444444    normal\n",
       "729  31.0       0.0       25.18     1367.53  26.222222    normal\n",
       "\n",
       "[730 rows x 6 columns]"
      ]
     },
     "execution_count": 36,
     "metadata": {},
     "output_type": "execute_result"
    }
   ],
   "source": [
    "newdata"
   ]
  },
  {
   "cell_type": "code",
   "execution_count": 37,
   "metadata": {
    "colab": {
     "base_uri": "https://localhost:8080/",
     "height": 300
    },
    "id": "dj2_7zvmayvY",
    "outputId": "cf0e7f04-d027-4edf-9510-d23a74d67937"
   },
   "outputs": [
    {
     "data": {
      "text/html": [
       "<div>\n",
       "<style scoped>\n",
       "    .dataframe tbody tr th:only-of-type {\n",
       "        vertical-align: middle;\n",
       "    }\n",
       "\n",
       "    .dataframe tbody tr th {\n",
       "        vertical-align: top;\n",
       "    }\n",
       "\n",
       "    .dataframe thead th {\n",
       "        text-align: right;\n",
       "    }\n",
       "</style>\n",
       "<table border=\"1\" class=\"dataframe\">\n",
       "  <thead>\n",
       "    <tr style=\"text-align: right;\">\n",
       "      <th></th>\n",
       "      <th>Day</th>\n",
       "      <th>Rainfall</th>\n",
       "      <th>WaterLevel</th>\n",
       "      <th>StreamFlow</th>\n",
       "      <th>Weather</th>\n",
       "    </tr>\n",
       "  </thead>\n",
       "  <tbody>\n",
       "    <tr>\n",
       "      <th>count</th>\n",
       "      <td>730.000000</td>\n",
       "      <td>730.000000</td>\n",
       "      <td>730.000000</td>\n",
       "      <td>730.000000</td>\n",
       "      <td>730.000000</td>\n",
       "    </tr>\n",
       "    <tr>\n",
       "      <th>mean</th>\n",
       "      <td>15.720548</td>\n",
       "      <td>6.372603</td>\n",
       "      <td>25.188726</td>\n",
       "      <td>618.798493</td>\n",
       "      <td>27.051522</td>\n",
       "    </tr>\n",
       "    <tr>\n",
       "      <th>std</th>\n",
       "      <td>8.802278</td>\n",
       "      <td>15.945107</td>\n",
       "      <td>1.684204</td>\n",
       "      <td>977.532332</td>\n",
       "      <td>1.211477</td>\n",
       "    </tr>\n",
       "    <tr>\n",
       "      <th>min</th>\n",
       "      <td>1.000000</td>\n",
       "      <td>0.000000</td>\n",
       "      <td>23.330000</td>\n",
       "      <td>0.000000</td>\n",
       "      <td>23.055556</td>\n",
       "    </tr>\n",
       "    <tr>\n",
       "      <th>25%</th>\n",
       "      <td>8.000000</td>\n",
       "      <td>0.000000</td>\n",
       "      <td>24.192500</td>\n",
       "      <td>163.455000</td>\n",
       "      <td>26.277778</td>\n",
       "    </tr>\n",
       "    <tr>\n",
       "      <th>50%</th>\n",
       "      <td>16.000000</td>\n",
       "      <td>0.000000</td>\n",
       "      <td>24.720000</td>\n",
       "      <td>329.070000</td>\n",
       "      <td>27.166667</td>\n",
       "    </tr>\n",
       "    <tr>\n",
       "      <th>75%</th>\n",
       "      <td>23.000000</td>\n",
       "      <td>5.500000</td>\n",
       "      <td>25.677500</td>\n",
       "      <td>685.850000</td>\n",
       "      <td>27.944444</td>\n",
       "    </tr>\n",
       "    <tr>\n",
       "      <th>max</th>\n",
       "      <td>31.000000</td>\n",
       "      <td>165.000000</td>\n",
       "      <td>34.590000</td>\n",
       "      <td>6977.240000</td>\n",
       "      <td>29.888889</td>\n",
       "    </tr>\n",
       "  </tbody>\n",
       "</table>\n",
       "</div>"
      ],
      "text/plain": [
       "              Day    Rainfall  WaterLevel   StreamFlow     Weather\n",
       "count  730.000000  730.000000  730.000000   730.000000  730.000000\n",
       "mean    15.720548    6.372603   25.188726   618.798493   27.051522\n",
       "std      8.802278   15.945107    1.684204   977.532332    1.211477\n",
       "min      1.000000    0.000000   23.330000     0.000000   23.055556\n",
       "25%      8.000000    0.000000   24.192500   163.455000   26.277778\n",
       "50%     16.000000    0.000000   24.720000   329.070000   27.166667\n",
       "75%     23.000000    5.500000   25.677500   685.850000   27.944444\n",
       "max     31.000000  165.000000   34.590000  6977.240000   29.888889"
      ]
     },
     "execution_count": 37,
     "metadata": {},
     "output_type": "execute_result"
    }
   ],
   "source": [
    "#Describe the data\n",
    "newdata.describe()"
   ]
  },
  {
   "cell_type": "markdown",
   "metadata": {
    "id": "-6XOxF33cXJa"
   },
   "source": [
    "4.0 Data Observation & Visualization"
   ]
  },
  {
   "cell_type": "code",
   "execution_count": 38,
   "metadata": {},
   "outputs": [],
   "source": [
    "# Label Encoding\n",
    "lab = LabelEncoder()\n",
    "newdata['Threshold'] = lab.fit_transform(newdata['Threshold'])"
   ]
  },
  {
   "cell_type": "code",
   "execution_count": 39,
   "metadata": {
    "colab": {
     "base_uri": "https://localhost:8080/"
    },
    "id": "UtRw9gTTSLmM",
    "outputId": "226db6cb-36b9-4af7-b74c-aba7ec5cd38e"
   },
   "outputs": [
    {
     "name": "stdout",
     "output_type": "stream",
     "text": [
      "          Day  Rainfall  WaterLevel  StreamFlow   Weather  Threshold\n",
      "0    0.001387  0.036073    0.035407    0.998133  0.034146   0.002775\n",
      "1    0.000937  0.016871    0.012986    0.999708  0.011403   0.000000\n",
      "2    0.000999  0.041631    0.009642    0.999057  0.007679   0.000000\n",
      "3    0.000805  0.000705    0.006412    0.999968  0.004710   0.000201\n",
      "4    0.000855  0.006159    0.005668    0.999955  0.004381   0.000171\n",
      "..        ...       ...         ...         ...       ...        ...\n",
      "725  0.035683  0.000000    0.034308    0.998222  0.033113   0.002643\n",
      "726  0.039222  0.000000    0.035959    0.997929  0.036032   0.002802\n",
      "727  0.041367  0.000000    0.036331    0.997876  0.034710   0.002853\n",
      "728  0.037937  0.000000    0.032019    0.998204  0.033441   0.002529\n",
      "729  0.022655  0.000000    0.018402    0.999389  0.019163   0.001462\n",
      "\n",
      "[730 rows x 6 columns]\n"
     ]
    }
   ],
   "source": [
    "#Normalize value\n",
    "from sklearn import preprocessing\n",
    "d = preprocessing.normalize(newdata)\n",
    "scaled_df = pd.DataFrame(d, columns=newdata.columns)\n",
    "print(scaled_df)"
   ]
  },
  {
   "cell_type": "code",
   "execution_count": 40,
   "metadata": {
    "colab": {
     "base_uri": "https://localhost:8080/",
     "height": 206
    },
    "id": "JfKpnO4Yzhm5",
    "outputId": "cd418ee5-8d6f-422f-d09a-1aa55287a36b"
   },
   "outputs": [
    {
     "data": {
      "text/html": [
       "<div>\n",
       "<style scoped>\n",
       "    .dataframe tbody tr th:only-of-type {\n",
       "        vertical-align: middle;\n",
       "    }\n",
       "\n",
       "    .dataframe tbody tr th {\n",
       "        vertical-align: top;\n",
       "    }\n",
       "\n",
       "    .dataframe thead th {\n",
       "        text-align: right;\n",
       "    }\n",
       "</style>\n",
       "<table border=\"1\" class=\"dataframe\">\n",
       "  <thead>\n",
       "    <tr style=\"text-align: right;\">\n",
       "      <th></th>\n",
       "      <th>Day</th>\n",
       "      <th>Rainfall</th>\n",
       "      <th>WaterLevel</th>\n",
       "      <th>StreamFlow</th>\n",
       "      <th>Weather</th>\n",
       "      <th>Threshold</th>\n",
       "    </tr>\n",
       "  </thead>\n",
       "  <tbody>\n",
       "    <tr>\n",
       "      <th>Day</th>\n",
       "      <td>1.000000</td>\n",
       "      <td>-0.072206</td>\n",
       "      <td>-0.040299</td>\n",
       "      <td>-0.020397</td>\n",
       "      <td>0.064462</td>\n",
       "      <td>0.019794</td>\n",
       "    </tr>\n",
       "    <tr>\n",
       "      <th>Rainfall</th>\n",
       "      <td>-0.072206</td>\n",
       "      <td>1.000000</td>\n",
       "      <td>0.139586</td>\n",
       "      <td>0.025883</td>\n",
       "      <td>-0.135205</td>\n",
       "      <td>-0.039510</td>\n",
       "    </tr>\n",
       "    <tr>\n",
       "      <th>WaterLevel</th>\n",
       "      <td>-0.040299</td>\n",
       "      <td>0.139586</td>\n",
       "      <td>1.000000</td>\n",
       "      <td>0.417328</td>\n",
       "      <td>-0.405941</td>\n",
       "      <td>-0.519297</td>\n",
       "    </tr>\n",
       "    <tr>\n",
       "      <th>StreamFlow</th>\n",
       "      <td>-0.020397</td>\n",
       "      <td>0.025883</td>\n",
       "      <td>0.417328</td>\n",
       "      <td>1.000000</td>\n",
       "      <td>-0.243720</td>\n",
       "      <td>-0.118819</td>\n",
       "    </tr>\n",
       "    <tr>\n",
       "      <th>Weather</th>\n",
       "      <td>0.064462</td>\n",
       "      <td>-0.135205</td>\n",
       "      <td>-0.405941</td>\n",
       "      <td>-0.243720</td>\n",
       "      <td>1.000000</td>\n",
       "      <td>0.260540</td>\n",
       "    </tr>\n",
       "    <tr>\n",
       "      <th>Threshold</th>\n",
       "      <td>0.019794</td>\n",
       "      <td>-0.039510</td>\n",
       "      <td>-0.519297</td>\n",
       "      <td>-0.118819</td>\n",
       "      <td>0.260540</td>\n",
       "      <td>1.000000</td>\n",
       "    </tr>\n",
       "  </tbody>\n",
       "</table>\n",
       "</div>"
      ],
      "text/plain": [
       "                 Day  Rainfall  WaterLevel  StreamFlow   Weather  Threshold\n",
       "Day         1.000000 -0.072206   -0.040299   -0.020397  0.064462   0.019794\n",
       "Rainfall   -0.072206  1.000000    0.139586    0.025883 -0.135205  -0.039510\n",
       "WaterLevel -0.040299  0.139586    1.000000    0.417328 -0.405941  -0.519297\n",
       "StreamFlow -0.020397  0.025883    0.417328    1.000000 -0.243720  -0.118819\n",
       "Weather     0.064462 -0.135205   -0.405941   -0.243720  1.000000   0.260540\n",
       "Threshold   0.019794 -0.039510   -0.519297   -0.118819  0.260540   1.000000"
      ]
     },
     "execution_count": 40,
     "metadata": {},
     "output_type": "execute_result"
    }
   ],
   "source": [
    "newdata.corr()"
   ]
  },
  {
   "cell_type": "code",
   "execution_count": 41,
   "metadata": {
    "colab": {
     "base_uri": "https://localhost:8080/",
     "height": 477
    },
    "id": "wtk8IzlxzuzL",
    "outputId": "61b55aea-a72b-4f40-ea1d-9358446105d8"
   },
   "outputs": [
    {
     "data": {
      "text/plain": [
       "Text(0.5, 1.0, 'Correlation Heatmap')"
      ]
     },
     "execution_count": 41,
     "metadata": {},
     "output_type": "execute_result"
    },
    {
     "data": {
      "image/png": "[encoded data removed]",
      "text/plain": [
       "<Figure size 640x480 with 2 Axes>"
      ]
     },
     "metadata": {},
     "output_type": "display_data"
    }
   ],
   "source": [
    "# see correlation between variables through a correlation heatmap\n",
    "import seaborn as sns\n",
    "\n",
    "#drop 'Day'\n",
    "newdata1=newdata.drop(columns=['Day'],axis=1)\n",
    "\n",
    "corr = newdata1.corr()\n",
    "plt.figure()\n",
    "sns.heatmap(corr, annot=True, cmap=\"Reds\")\n",
    "plt.title('Correlation Heatmap', fontsize=20)"
   ]
  },
  {
   "cell_type": "markdown",
   "metadata": {
    "id": "RG_2OCHp-meZ"
   },
   "source": [
    "From the correlation heatmap, Streamflow has slight strong relation with Water Level (0.42).\n",
    "\n",
    "While Threshold and Weather has slight strong negative relation with Water Level -0.52 and -0.41 respectively"
   ]
  },
  {
   "cell_type": "markdown",
   "metadata": {
    "id": "xEmhZFoXSnVp"
   },
   "source": [
    "5.0 Assign input and output variables"
   ]
  },
  {
   "cell_type": "code",
   "execution_count": 42,
   "metadata": {},
   "outputs": [],
   "source": [
    "# Assign feature and target\n",
    "X = newdata[['Rainfall', 'StreamFlow', 'Weather']]\n",
    "y_regression = newdata1['WaterLevel']\n",
    "y_classification = newdata1['Threshold']"
   ]
  },
  {
   "cell_type": "markdown",
   "metadata": {},
   "source": [
    "The feature and target variables are essential elements of the training data that the model utilises to acquire patterns and provide predictions.\n",
    "\n",
    "The feature variables (X) are 'Rainfall', 'StreamFlow' and 'Weather', while the target variable for regression (y_regression) is 'WaterLevel'. Meanwhile, the target variable for classification (y_classification) represents the 'Threshold' labels, including 'normal', 'alert', 'warning' and 'danger' based on the water level."
   ]
  },
  {
   "cell_type": "markdown",
   "metadata": {
    "id": "3VzDefAKSzhY"
   },
   "source": [
    "6.0 Split data for train & test"
   ]
  },
  {
   "cell_type": "code",
   "execution_count": 43,
   "metadata": {},
   "outputs": [],
   "source": [
    "# Split the data into training and testing sets\n",
    "\n",
    "X_train, X_test, y_reg_train, y_reg_test, y_class_train, y_class_test = train_test_split(\n",
    "    X, y_regression, y_classification, test_size=0.2, random_state=42)"
   ]
  },
  {
   "cell_type": "markdown",
   "metadata": {},
   "source": [
    "For data partitioning, the dataset is split into 20% for testing and the remaining 80% for training."
   ]
  },
  {
   "cell_type": "code",
   "execution_count": 44,
   "metadata": {},
   "outputs": [
    {
     "name": "stdout",
     "output_type": "stream",
     "text": [
      "Class counts in training set:\n",
      "Threshold\n",
      "2    476\n",
      "0     90\n",
      "1     12\n",
      "3      6\n",
      "Name: count, dtype: int64\n",
      "\n",
      "Class counts in testing set:\n",
      "Threshold\n",
      "2    117\n",
      "0     23\n",
      "1      5\n",
      "3      1\n",
      "Name: count, dtype: int64\n"
     ]
    }
   ],
   "source": [
    "# Count occurrences in training set\n",
    "class_counts_train = y_class_train.value_counts()\n",
    "\n",
    "# Count occurrences in testing set\n",
    "class_counts_test = y_class_test.value_counts()\n",
    "\n",
    "# Display the counts\n",
    "print(\"Class counts in training set:\")\n",
    "print(class_counts_train)\n",
    "\n",
    "print(\"\\nClass counts in testing set:\")\n",
    "print(class_counts_test)"
   ]
  },
  {
   "cell_type": "code",
   "execution_count": 45,
   "metadata": {},
   "outputs": [
    {
     "data": {
      "image/png": "[encoded data removed]",
      "text/plain": [
       "<Figure size 800x600 with 1 Axes>"
      ]
     },
     "metadata": {},
     "output_type": "display_data"
    },
    {
     "data": {
      "image/png": "[encoded data removed]",
      "text/plain": [
       "<Figure size 800x600 with 1 Axes>"
      ]
     },
     "metadata": {},
     "output_type": "display_data"
    }
   ],
   "source": [
    "# Visualize class distribution for the training set\n",
    "plt.figure(figsize=(8, 6))\n",
    "class_counts_train.plot(kind='bar', color='skyblue')\n",
    "plt.title('Class Distribution in Training Set')\n",
    "plt.xlabel('Class')\n",
    "plt.ylabel('Count')\n",
    "plt.show()\n",
    "\n",
    "# Visualize class distribution for the testing set\n",
    "plt.figure(figsize=(8, 6))\n",
    "class_counts_test.plot(kind='bar', color='lightcoral')\n",
    "plt.title('Class Distribution in Testing Set')\n",
    "plt.xlabel('Class')\n",
    "plt.ylabel('Count')\n",
    "plt.show()"
   ]
  },
  {
   "cell_type": "code",
   "execution_count": 46,
   "metadata": {},
   "outputs": [
    {
     "name": "stdout",
     "output_type": "stream",
     "text": [
      "Balanced class counts:\n",
      "Threshold\n",
      "0    476\n",
      "1    476\n",
      "2    476\n",
      "3    476\n",
      "Name: count, dtype: int64\n"
     ]
    }
   ],
   "source": [
    "from imblearn.over_sampling import RandomOverSampler\n",
    "from imblearn.under_sampling import RandomUnderSampler\n",
    "\n",
    "# Combine oversampling and undersampling to balance the classes\n",
    "oversampler = RandomOverSampler(sampling_strategy='not majority', random_state=42)\n",
    "undersampler = RandomUnderSampler(sampling_strategy='majority', random_state=42)\n",
    "\n",
    "X_resampled, y_resampled = oversampler.fit_resample(X_train, y_class_train)\n",
    "X_balanced, y_balanced = undersampler.fit_resample(X_resampled, y_resampled)\n",
    "\n",
    "# Display the new class distribution\n",
    "print(\"Balanced class counts:\")\n",
    "print(pd.Series(y_balanced).value_counts())"
   ]
  },
  {
   "cell_type": "code",
   "execution_count": 47,
   "metadata": {},
   "outputs": [],
   "source": [
    "# Feature Scaling\n",
    "scaler = StandardScaler()\n",
    "X_train_scale = scaler.fit_transform(X_train)\n",
    "X_test_scale = scaler.fit_transform(X_test)"
   ]
  },
  {
   "cell_type": "markdown",
   "metadata": {},
   "source": [
    "Feature scaling is significant to get better performance of machine learning models. Better machine learning may be distinguished from weaker machine learning via scaling. Standard scalar standardizes the features by eliminating the mean and scaling to unit variance. It also known as Z-score normalisation. It aims to convert the data into a standard normal distribution (with a mean of 0 and a standard deviation of 1)."
   ]
  },
  {
   "cell_type": "code",
   "execution_count": 48,
   "metadata": {},
   "outputs": [],
   "source": [
    "# Instantiate the label encoder\n",
    "label_encoder = LabelEncoder()\n",
    "\n",
    "# Fit and transform the target variable in the training set\n",
    "y_class_train_encoded = label_encoder.fit_transform(y_class_train)\n",
    "\n",
    "# Transform the target variable in the test set\n",
    "y_class_test_encoded = label_encoder.transform(y_class_test)"
   ]
  },
  {
   "cell_type": "markdown",
   "metadata": {},
   "source": [
    "Label encoder is used to convert the categorical labels such as 'normal', 'alert', 'warning', and 'danger' into numerical labels."
   ]
  },
  {
   "cell_type": "markdown",
   "metadata": {
    "id": "hdl7yto0S434"
   },
   "source": [
    "7.0 Model"
   ]
  },
  {
   "cell_type": "markdown",
   "metadata": {},
   "source": [
    "## Decision Tree (Classification)"
   ]
  },
  {
   "cell_type": "code",
   "execution_count": 49,
   "metadata": {},
   "outputs": [],
   "source": [
    "from sklearn.model_selection import GridSearchCV, ShuffleSplit\n",
    "from sklearn.tree import DecisionTreeClassifier, plot_tree\n",
    "decision_tree_classifier = DecisionTreeClassifier()"
   ]
  },
  {
   "cell_type": "code",
   "execution_count": 50,
   "metadata": {},
   "outputs": [],
   "source": [
    "param_grid = {\n",
    "    'criterion': ['gini','entropy'],\n",
    "    'max_depth': [None, 5, 10, 15],\n",
    "    'min_samples_split': [2, 5, 10],\n",
    "    'min_samples_leaf': [1, 2, 4]\n",
    "}"
   ]
  },
  {
   "cell_type": "code",
   "execution_count": 51,
   "metadata": {},
   "outputs": [],
   "source": [
    "grid_search = GridSearchCV(estimator = decision_tree_classifier, param_grid = param_grid, cv = 5, scoring = 'accuracy')"
   ]
  },
  {
   "cell_type": "code",
   "execution_count": 52,
   "metadata": {},
   "outputs": [
    {
     "data": {
      "text/html": [
       "<style>#sk-container-id-1 {\n",
       "  /* Definition of color scheme common for light and dark mode */\n",
       "  --sklearn-color-text: black;\n",
       "  --sklearn-color-line: gray;\n",
       "  /* Definition of color scheme for unfitted estimators */\n",
       "  --sklearn-color-unfitted-level-0: #fff5e6;\n",
       "  --sklearn-color-unfitted-level-1: #f6e4d2;\n",
       "  --sklearn-color-unfitted-level-2: #ffe0b3;\n",
       "  --sklearn-color-unfitted-level-3: chocolate;\n",
       "  /* Definition of color scheme for fitted estimators */\n",
       "  --sklearn-color-fitted-level-0: #f0f8ff;\n",
       "  --sklearn-color-fitted-level-1: #d4ebff;\n",
       "  --sklearn-color-fitted-level-2: #b3dbfd;\n",
       "  --sklearn-color-fitted-level-3: cornflowerblue;\n",
       "\n",
       "  /* Specific color for light theme */\n",
       "  --sklearn-color-text-on-default-background: var(--sg-text-color, var(--theme-code-foreground, var(--jp-content-font-color1, black)));\n",
       "  --sklearn-color-background: var(--sg-background-color, var(--theme-background, var(--jp-layout-color0, white)));\n",
       "  --sklearn-color-border-box: var(--sg-text-color, var(--theme-code-foreground, var(--jp-content-font-color1, black)));\n",
       "  --sklearn-color-icon: #696969;\n",
       "\n",
       "  @media (prefers-color-scheme: dark) {\n",
       "    /* Redefinition of color scheme for dark theme */\n",
       "    --sklearn-color-text-on-default-background: var(--sg-text-color, var(--theme-code-foreground, var(--jp-content-font-color1, white)));\n",
       "    --sklearn-color-background: var(--sg-background-color, var(--theme-background, var(--jp-layout-color0, #111)));\n",
       "    --sklearn-color-border-box: var(--sg-text-color, var(--theme-code-foreground, var(--jp-content-font-color1, white)));\n",
       "    --sklearn-color-icon: #878787;\n",
       "  }\n",
       "}\n",
       "\n",
       "#sk-container-id-1 {\n",
       "  color: var(--sklearn-color-text);\n",
       "}\n",
       "\n",
       "#sk-container-id-1 pre {\n",
       "  padding: 0;\n",
       "}\n",
       "\n",
       "#sk-container-id-1 input.sk-hidden--visually {\n",
       "  border: 0;\n",
       "  clip: rect(1px 1px 1px 1px);\n",
       "  clip: rect(1px, 1px, 1px, 1px);\n",
       "  height: 1px;\n",
       "  margin: -1px;\n",
       "  overflow: hidden;\n",
       "  padding: 0;\n",
       "  position: absolute;\n",
       "  width: 1px;\n",
       "}\n",
       "\n",
       "#sk-container-id-1 div.sk-dashed-wrapped {\n",
       "  border: 1px dashed var(--sklearn-color-line);\n",
       "  margin: 0 0.4em 0.5em 0.4em;\n",
       "  box-sizing: border-box;\n",
       "  padding-bottom: 0.4em;\n",
       "  background-color: var(--sklearn-color-background);\n",
       "}\n",
       "\n",
       "#sk-container-id-1 div.sk-container {\n",
       "  /* jupyter's `normalize.less` sets `[hidden] { display: none; }`\n",
       "     but bootstrap.min.css set `[hidden] { display: none !important; }`\n",
       "     so we also need the `!important` here to be able to override the\n",
       "     default hidden behavior on the sphinx rendered scikit-learn.org.\n",
       "     See: https://github.com/scikit-learn/scikit-learn/issues/21755 */\n",
       "  display: inline-block !important;\n",
       "  position: relative;\n",
       "}\n",
       "\n",
       "#sk-container-id-1 div.sk-text-repr-fallback {\n",
       "  display: none;\n",
       "}\n",
       "\n",
       "div.sk-parallel-item,\n",
       "div.sk-serial,\n",
       "div.sk-item {\n",
       "  /* draw centered vertical line to link estimators */\n",
       "  background-image: linear-gradient(var(--sklearn-color-text-on-default-background), var(--sklearn-color-text-on-default-background));\n",
       "  background-size: 2px 100%;\n",
       "  background-repeat: no-repeat;\n",
       "  background-position: center center;\n",
       "}\n",
       "\n",
       "/* Parallel-specific style estimator block */\n",
       "\n",
       "#sk-container-id-1 div.sk-parallel-item::after {\n",
       "  content: \"\";\n",
       "  width: 100%;\n",
       "  border-bottom: 2px solid var(--sklearn-color-text-on-default-background);\n",
       "  flex-grow: 1;\n",
       "}\n",
       "\n",
       "#sk-container-id-1 div.sk-parallel {\n",
       "  display: flex;\n",
       "  align-items: stretch;\n",
       "  justify-content: center;\n",
       "  background-color: var(--sklearn-color-background);\n",
       "  position: relative;\n",
       "}\n",
       "\n",
       "#sk-container-id-1 div.sk-parallel-item {\n",
       "  display: flex;\n",
       "  flex-direction: column;\n",
       "}\n",
       "\n",
       "#sk-container-id-1 div.sk-parallel-item:first-child::after {\n",
       "  align-self: flex-end;\n",
       "  width: 50%;\n",
       "}\n",
       "\n",
       "#sk-container-id-1 div.sk-parallel-item:last-child::after {\n",
       "  align-self: flex-start;\n",
       "  width: 50%;\n",
       "}\n",
       "\n",
       "#sk-container-id-1 div.sk-parallel-item:only-child::after {\n",
       "  width: 0;\n",
       "}\n",
       "\n",
       "/* Serial-specific style estimator block */\n",
       "\n",
       "#sk-container-id-1 div.sk-serial {\n",
       "  display: flex;\n",
       "  flex-direction: column;\n",
       "  align-items: center;\n",
       "  background-color: var(--sklearn-color-background);\n",
       "  padding-right: 1em;\n",
       "  padding-left: 1em;\n",
       "}\n",
       "\n",
       "\n",
       "/* Toggleable style: style used for estimator/Pipeline/ColumnTransformer box that is\n",
       "clickable and can be expanded/collapsed.\n",
       "- Pipeline and ColumnTransformer use this feature and define the default style\n",
       "- Estimators will overwrite some part of the style using the `sk-estimator` class\n",
       "*/\n",
       "\n",
       "/* Pipeline and ColumnTransformer style (default) */\n",
       "\n",
       "#sk-container-id-1 div.sk-toggleable {\n",
       "  /* Default theme specific background. It is overwritten whether we have a\n",
       "  specific estimator or a Pipeline/ColumnTransformer */\n",
       "  background-color: var(--sklearn-color-background);\n",
       "}\n",
       "\n",
       "/* Toggleable label */\n",
       "#sk-container-id-1 label.sk-toggleable__label {\n",
       "  cursor: pointer;\n",
       "  display: block;\n",
       "  width: 100%;\n",
       "  margin-bottom: 0;\n",
       "  padding: 0.5em;\n",
       "  box-sizing: border-box;\n",
       "  text-align: center;\n",
       "}\n",
       "\n",
       "#sk-container-id-1 label.sk-toggleable__label-arrow:before {\n",
       "  /* Arrow on the left of the label */\n",
       "  content: \"▸\";\n",
       "  float: left;\n",
       "  margin-right: 0.25em;\n",
       "  color: var(--sklearn-color-icon);\n",
       "}\n",
       "\n",
       "#sk-container-id-1 label.sk-toggleable__label-arrow:hover:before {\n",
       "  color: var(--sklearn-color-text);\n",
       "}\n",
       "\n",
       "/* Toggleable content - dropdown */\n",
       "\n",
       "#sk-container-id-1 div.sk-toggleable__content {\n",
       "  max-height: 0;\n",
       "  max-width: 0;\n",
       "  overflow: hidden;\n",
       "  text-align: left;\n",
       "  /* unfitted */\n",
       "  background-color: var(--sklearn-color-unfitted-level-0);\n",
       "}\n",
       "\n",
       "#sk-container-id-1 div.sk-toggleable__content.fitted {\n",
       "  /* fitted */\n",
       "  background-color: var(--sklearn-color-fitted-level-0);\n",
       "}\n",
       "\n",
       "#sk-container-id-1 div.sk-toggleable__content pre {\n",
       "  margin: 0.2em;\n",
       "  border-radius: 0.25em;\n",
       "  color: var(--sklearn-color-text);\n",
       "  /* unfitted */\n",
       "  background-color: var(--sklearn-color-unfitted-level-0);\n",
       "}\n",
       "\n",
       "#sk-container-id-1 div.sk-toggleable__content.fitted pre {\n",
       "  /* unfitted */\n",
       "  background-color: var(--sklearn-color-fitted-level-0);\n",
       "}\n",
       "\n",
       "#sk-container-id-1 input.sk-toggleable__control:checked~div.sk-toggleable__content {\n",
       "  /* Expand drop-down */\n",
       "  max-height: 200px;\n",
       "  max-width: 100%;\n",
       "  overflow: auto;\n",
       "}\n",
       "\n",
       "#sk-container-id-1 input.sk-toggleable__control:checked~label.sk-toggleable__label-arrow:before {\n",
       "  content: \"▾\";\n",
       "}\n",
       "\n",
       "/* Pipeline/ColumnTransformer-specific style */\n",
       "\n",
       "#sk-container-id-1 div.sk-label input.sk-toggleable__control:checked~label.sk-toggleable__label {\n",
       "  color: var(--sklearn-color-text);\n",
       "  background-color: var(--sklearn-color-unfitted-level-2);\n",
       "}\n",
       "\n",
       "#sk-container-id-1 div.sk-label.fitted input.sk-toggleable__control:checked~label.sk-toggleable__label {\n",
       "  background-color: var(--sklearn-color-fitted-level-2);\n",
       "}\n",
       "\n",
       "/* Estimator-specific style */\n",
       "\n",
       "/* Colorize estimator box */\n",
       "#sk-container-id-1 div.sk-estimator input.sk-toggleable__control:checked~label.sk-toggleable__label {\n",
       "  /* unfitted */\n",
       "  background-color: var(--sklearn-color-unfitted-level-2);\n",
       "}\n",
       "\n",
       "#sk-container-id-1 div.sk-estimator.fitted input.sk-toggleable__control:checked~label.sk-toggleable__label {\n",
       "  /* fitted */\n",
       "  background-color: var(--sklearn-color-fitted-level-2);\n",
       "}\n",
       "\n",
       "#sk-container-id-1 div.sk-label label.sk-toggleable__label,\n",
       "#sk-container-id-1 div.sk-label label {\n",
       "  /* The background is the default theme color */\n",
       "  color: var(--sklearn-color-text-on-default-background);\n",
       "}\n",
       "\n",
       "/* On hover, darken the color of the background */\n",
       "#sk-container-id-1 div.sk-label:hover label.sk-toggleable__label {\n",
       "  color: var(--sklearn-color-text);\n",
       "  background-color: var(--sklearn-color-unfitted-level-2);\n",
       "}\n",
       "\n",
       "/* Label box, darken color on hover, fitted */\n",
       "#sk-container-id-1 div.sk-label.fitted:hover label.sk-toggleable__label.fitted {\n",
       "  color: var(--sklearn-color-text);\n",
       "  background-color: var(--sklearn-color-fitted-level-2);\n",
       "}\n",
       "\n",
       "/* Estimator label */\n",
       "\n",
       "#sk-container-id-1 div.sk-label label {\n",
       "  font-family: monospace;\n",
       "  font-weight: bold;\n",
       "  display: inline-block;\n",
       "  line-height: 1.2em;\n",
       "}\n",
       "\n",
       "#sk-container-id-1 div.sk-label-container {\n",
       "  text-align: center;\n",
       "}\n",
       "\n",
       "/* Estimator-specific */\n",
       "#sk-container-id-1 div.sk-estimator {\n",
       "  font-family: monospace;\n",
       "  border: 1px dotted var(--sklearn-color-border-box);\n",
       "  border-radius: 0.25em;\n",
       "  box-sizing: border-box;\n",
       "  margin-bottom: 0.5em;\n",
       "  /* unfitted */\n",
       "  background-color: var(--sklearn-color-unfitted-level-0);\n",
       "}\n",
       "\n",
       "#sk-container-id-1 div.sk-estimator.fitted {\n",
       "  /* fitted */\n",
       "  background-color: var(--sklearn-color-fitted-level-0);\n",
       "}\n",
       "\n",
       "/* on hover */\n",
       "#sk-container-id-1 div.sk-estimator:hover {\n",
       "  /* unfitted */\n",
       "  background-color: var(--sklearn-color-unfitted-level-2);\n",
       "}\n",
       "\n",
       "#sk-container-id-1 div.sk-estimator.fitted:hover {\n",
       "  /* fitted */\n",
       "  background-color: var(--sklearn-color-fitted-level-2);\n",
       "}\n",
       "\n",
       "/* Specification for estimator info (e.g. \"i\" and \"?\") */\n",
       "\n",
       "/* Common style for \"i\" and \"?\" */\n",
       "\n",
       ".sk-estimator-doc-link,\n",
       "a:link.sk-estimator-doc-link,\n",
       "a:visited.sk-estimator-doc-link {\n",
       "  float: right;\n",
       "  font-size: smaller;\n",
       "  line-height: 1em;\n",
       "  font-family: monospace;\n",
       "  background-color: var(--sklearn-color-background);\n",
       "  border-radius: 1em;\n",
       "  height: 1em;\n",
       "  width: 1em;\n",
       "  text-decoration: none !important;\n",
       "  margin-left: 1ex;\n",
       "  /* unfitted */\n",
       "  border: var(--sklearn-color-unfitted-level-1) 1pt solid;\n",
       "  color: var(--sklearn-color-unfitted-level-1);\n",
       "}\n",
       "\n",
       ".sk-estimator-doc-link.fitted,\n",
       "a:link.sk-estimator-doc-link.fitted,\n",
       "a:visited.sk-estimator-doc-link.fitted {\n",
       "  /* fitted */\n",
       "  border: var(--sklearn-color-fitted-level-1) 1pt solid;\n",
       "  color: var(--sklearn-color-fitted-level-1);\n",
       "}\n",
       "\n",
       "/* On hover */\n",
       "div.sk-estimator:hover .sk-estimator-doc-link:hover,\n",
       ".sk-estimator-doc-link:hover,\n",
       "div.sk-label-container:hover .sk-estimator-doc-link:hover,\n",
       ".sk-estimator-doc-link:hover {\n",
       "  /* unfitted */\n",
       "  background-color: var(--sklearn-color-unfitted-level-3);\n",
       "  color: var(--sklearn-color-background);\n",
       "  text-decoration: none;\n",
       "}\n",
       "\n",
       "div.sk-estimator.fitted:hover .sk-estimator-doc-link.fitted:hover,\n",
       ".sk-estimator-doc-link.fitted:hover,\n",
       "div.sk-label-container:hover .sk-estimator-doc-link.fitted:hover,\n",
       ".sk-estimator-doc-link.fitted:hover {\n",
       "  /* fitted */\n",
       "  background-color: var(--sklearn-color-fitted-level-3);\n",
       "  color: var(--sklearn-color-background);\n",
       "  text-decoration: none;\n",
       "}\n",
       "\n",
       "/* Span, style for the box shown on hovering the info icon */\n",
       ".sk-estimator-doc-link span {\n",
       "  display: none;\n",
       "  z-index: 9999;\n",
       "  position: relative;\n",
       "  font-weight: normal;\n",
       "  right: .2ex;\n",
       "  padding: .5ex;\n",
       "  margin: .5ex;\n",
       "  width: min-content;\n",
       "  min-width: 20ex;\n",
       "  max-width: 50ex;\n",
       "  color: var(--sklearn-color-text);\n",
       "  box-shadow: 2pt 2pt 4pt #999;\n",
       "  /* unfitted */\n",
       "  background: var(--sklearn-color-unfitted-level-0);\n",
       "  border: .5pt solid var(--sklearn-color-unfitted-level-3);\n",
       "}\n",
       "\n",
       ".sk-estimator-doc-link.fitted span {\n",
       "  /* fitted */\n",
       "  background: var(--sklearn-color-fitted-level-0);\n",
       "  border: var(--sklearn-color-fitted-level-3);\n",
       "}\n",
       "\n",
       ".sk-estimator-doc-link:hover span {\n",
       "  display: block;\n",
       "}\n",
       "\n",
       "/* \"?\"-specific style due to the `<a>` HTML tag */\n",
       "\n",
       "#sk-container-id-1 a.estimator_doc_link {\n",
       "  float: right;\n",
       "  font-size: 1rem;\n",
       "  line-height: 1em;\n",
       "  font-family: monospace;\n",
       "  background-color: var(--sklearn-color-background);\n",
       "  border-radius: 1rem;\n",
       "  height: 1rem;\n",
       "  width: 1rem;\n",
       "  text-decoration: none;\n",
       "  /* unfitted */\n",
       "  color: var(--sklearn-color-unfitted-level-1);\n",
       "  border: var(--sklearn-color-unfitted-level-1) 1pt solid;\n",
       "}\n",
       "\n",
       "#sk-container-id-1 a.estimator_doc_link.fitted {\n",
       "  /* fitted */\n",
       "  border: var(--sklearn-color-fitted-level-1) 1pt solid;\n",
       "  color: var(--sklearn-color-fitted-level-1);\n",
       "}\n",
       "\n",
       "/* On hover */\n",
       "#sk-container-id-1 a.estimator_doc_link:hover {\n",
       "  /* unfitted */\n",
       "  background-color: var(--sklearn-color-unfitted-level-3);\n",
       "  color: var(--sklearn-color-background);\n",
       "  text-decoration: none;\n",
       "}\n",
       "\n",
       "#sk-container-id-1 a.estimator_doc_link.fitted:hover {\n",
       "  /* fitted */\n",
       "  background-color: var(--sklearn-color-fitted-level-3);\n",
       "}\n",
       "</style><div id=\"sk-container-id-1\" class=\"sk-top-container\"><div class=\"sk-text-repr-fallback\"><pre>GridSearchCV(cv=5, estimator=DecisionTreeClassifier(),\n",
       "             param_grid={&#x27;criterion&#x27;: [&#x27;gini&#x27;, &#x27;entropy&#x27;],\n",
       "                         &#x27;max_depth&#x27;: [None, 5, 10, 15],\n",
       "                         &#x27;min_samples_leaf&#x27;: [1, 2, 4],\n",
       "                         &#x27;min_samples_split&#x27;: [2, 5, 10]},\n",
       "             scoring=&#x27;accuracy&#x27;)</pre><b>In a Jupyter environment, please rerun this cell to show the HTML representation or trust the notebook. <br />On GitHub, the HTML representation is unable to render, please try loading this page with nbviewer.org.</b></div><div class=\"sk-container\" hidden><div class=\"sk-item sk-dashed-wrapped\"><div class=\"sk-label-container\"><div class=\"sk-label fitted sk-toggleable\"><input class=\"sk-toggleable__control sk-hidden--visually\" id=\"sk-estimator-id-1\" type=\"checkbox\" ><label for=\"sk-estimator-id-1\" class=\"sk-toggleable__label fitted sk-toggleable__label-arrow fitted\">&nbsp;&nbsp;GridSearchCV<a class=\"sk-estimator-doc-link fitted\" rel=\"noreferrer\" target=\"_blank\" href=\"https://scikit-learn.org/1.4/modules/generated/sklearn.model_selection.GridSearchCV.html\">?<span>Documentation for GridSearchCV</span></a><span class=\"sk-estimator-doc-link fitted\">i<span>Fitted</span></span></label><div class=\"sk-toggleable__content fitted\"><pre>GridSearchCV(cv=5, estimator=DecisionTreeClassifier(),\n",
       "             param_grid={&#x27;criterion&#x27;: [&#x27;gini&#x27;, &#x27;entropy&#x27;],\n",
       "                         &#x27;max_depth&#x27;: [None, 5, 10, 15],\n",
       "                         &#x27;min_samples_leaf&#x27;: [1, 2, 4],\n",
       "                         &#x27;min_samples_split&#x27;: [2, 5, 10]},\n",
       "             scoring=&#x27;accuracy&#x27;)</pre></div> </div></div><div class=\"sk-parallel\"><div class=\"sk-parallel-item\"><div class=\"sk-item\"><div class=\"sk-label-container\"><div class=\"sk-label fitted sk-toggleable\"><input class=\"sk-toggleable__control sk-hidden--visually\" id=\"sk-estimator-id-2\" type=\"checkbox\" ><label for=\"sk-estimator-id-2\" class=\"sk-toggleable__label fitted sk-toggleable__label-arrow fitted\">estimator: DecisionTreeClassifier</label><div class=\"sk-toggleable__content fitted\"><pre>DecisionTreeClassifier()</pre></div> </div></div><div class=\"sk-serial\"><div class=\"sk-item\"><div class=\"sk-estimator fitted sk-toggleable\"><input class=\"sk-toggleable__control sk-hidden--visually\" id=\"sk-estimator-id-3\" type=\"checkbox\" ><label for=\"sk-estimator-id-3\" class=\"sk-toggleable__label fitted sk-toggleable__label-arrow fitted\">&nbsp;DecisionTreeClassifier<a class=\"sk-estimator-doc-link fitted\" rel=\"noreferrer\" target=\"_blank\" href=\"https://scikit-learn.org/1.4/modules/generated/sklearn.tree.DecisionTreeClassifier.html\">?<span>Documentation for DecisionTreeClassifier</span></a></label><div class=\"sk-toggleable__content fitted\"><pre>DecisionTreeClassifier()</pre></div> </div></div></div></div></div></div></div></div></div>"
      ],
      "text/plain": [
       "GridSearchCV(cv=5, estimator=DecisionTreeClassifier(),\n",
       "             param_grid={'criterion': ['gini', 'entropy'],\n",
       "                         'max_depth': [None, 5, 10, 15],\n",
       "                         'min_samples_leaf': [1, 2, 4],\n",
       "                         'min_samples_split': [2, 5, 10]},\n",
       "             scoring='accuracy')"
      ]
     },
     "execution_count": 52,
     "metadata": {},
     "output_type": "execute_result"
    }
   ],
   "source": [
    "# Fit the grid search to the data\n",
    "grid_search.fit(X_train_scale, y_class_train_encoded)"
   ]
  },
  {
   "cell_type": "code",
   "execution_count": 53,
   "metadata": {},
   "outputs": [
    {
     "name": "stdout",
     "output_type": "stream",
     "text": [
      "Best Parameters: {'criterion': 'entropy', 'max_depth': 5, 'min_samples_leaf': 1, 'min_samples_split': 10}\n"
     ]
    }
   ],
   "source": [
    "# Get the best parameters and the best estimator (model)\n",
    "best_params = grid_search.best_params_\n",
    "best_model = grid_search.best_estimator_\n",
    "print(\"Best Parameters:\", best_params)"
   ]
  },
  {
   "cell_type": "code",
   "execution_count": 54,
   "metadata": {},
   "outputs": [
    {
     "name": "stdout",
     "output_type": "stream",
     "text": [
      "\n",
      "Classification Report on Test Set:\n",
      "              precision    recall  f1-score   support\n",
      "\n",
      "           0       0.46      0.26      0.33        23\n",
      "           1       1.00      0.20      0.33         5\n",
      "           2       0.85      0.96      0.90       117\n",
      "           3       0.00      0.00      0.00         1\n",
      "\n",
      "    accuracy                           0.82       146\n",
      "   macro avg       0.58      0.35      0.39       146\n",
      "weighted avg       0.79      0.82      0.78       146\n",
      "\n",
      "\n",
      "Accuracy on Test Set: 0.815068493150685\n"
     ]
    }
   ],
   "source": [
    "# Evaluate the best model on the test set\n",
    "y_pred_test = best_model.predict(X_test_scale)\n",
    "\n",
    "# Display the classification report\n",
    "from sklearn.metrics import classification_report, accuracy_score\n",
    "\n",
    "print(\"\\nClassification Report on Test Set:\")\n",
    "print(classification_report(y_class_test_encoded, y_pred_test))\n",
    "\n",
    "# Display the accuracy on the test set\n",
    "accuracy = accuracy_score(y_class_test_encoded, y_pred_test)\n",
    "print(\"\\nAccuracy on Test Set:\", accuracy)"
   ]
  },
  {
   "cell_type": "code",
   "execution_count": 55,
   "metadata": {},
   "outputs": [
    {
     "data": {
      "image/png": "[encoded data removed]",
      "text/plain": [
       "<Figure size 1500x1000 with 1 Axes>"
      ]
     },
     "metadata": {},
     "output_type": "display_data"
    }
   ],
   "source": [
    "# Convert class names to strings\n",
    "class_names_str = [str(class_name) for class_name in label_encoder.classes_]\n",
    "\n",
    "# Visualize the best decision tree (optional)\n",
    "plt.figure(figsize=(15, 10))\n",
    "plot_tree(best_model, filled=True, feature_names=X.columns, class_names=class_names_str)\n",
    "plt.show()"
   ]
  },
  {
   "cell_type": "markdown",
   "metadata": {},
   "source": [
    "## Support Vector Machines (Classification)"
   ]
  },
  {
   "cell_type": "code",
   "execution_count": 56,
   "metadata": {},
   "outputs": [],
   "source": [
    "from sklearn.svm import SVC\n",
    "\n",
    "# Create a support vector machine model for classification\n",
    "svm_classifier = SVC(random_state=42)\n",
    "\n",
    "# Fit the model on the training data\n",
    "svm_classifier.fit(X_train, y_class_train)\n",
    "\n",
    "# Predict on the test set\n",
    "y_class_pred_svm = svm_classifier.predict(X_test)"
   ]
  },
  {
   "cell_type": "markdown",
   "metadata": {},
   "source": [
    "## Random Forest (Classification)"
   ]
  },
  {
   "cell_type": "code",
   "execution_count": 57,
   "metadata": {},
   "outputs": [],
   "source": [
    "from sklearn.ensemble import RandomForestClassifier\n",
    "\n",
    "# Create a random forest model for classification\n",
    "rf_classifier = RandomForestClassifier(random_state=42)\n",
    "\n",
    "# Fit the model on the training data\n",
    "rf_classifier.fit(X_train, y_class_train)\n",
    "\n",
    "# Predict on the test set\n",
    "y_class_pred_rf = rf_classifier.predict(X_test)"
   ]
  },
  {
   "cell_type": "markdown",
   "metadata": {},
   "source": [
    "## Gradient Boosting (Classification)"
   ]
  },
  {
   "cell_type": "code",
   "execution_count": 58,
   "metadata": {},
   "outputs": [],
   "source": [
    "from sklearn.ensemble import GradientBoostingClassifier\n",
    "\n",
    "# Create a gradient boosting model for classification\n",
    "gb_classifier = GradientBoostingClassifier(random_state=42)\n",
    "\n",
    "# Fit the model on the training data\n",
    "gb_classifier.fit(X_train, y_class_train)\n",
    "\n",
    "# Predict on the test set\n",
    "y_class_pred_gb = gb_classifier.predict(X_test)"
   ]
  },
  {
   "cell_type": "markdown",
   "metadata": {},
   "source": [
    "## XGBoost (Classification)"
   ]
  },
  {
   "cell_type": "code",
   "execution_count": 59,
   "metadata": {},
   "outputs": [],
   "source": [
    "import xgboost as xgb\n",
    "\n",
    "# Define the XGBoost classifier\n",
    "xgb_classifier = xgb.XGBClassifier(objective='multi:softmax', num_class=len(set(y_classification)))\n",
    "\n",
    "# Train the model on the training set\n",
    "xgb_classifier.fit(X_train, y_class_train)\n",
    "\n",
    "# Predict on the test set\n",
    "y_class_pred_xgb = xgb_classifier.predict(X_test)"
   ]
  },
  {
   "cell_type": "markdown",
   "metadata": {
    "id": "t7wO4_TsTCsJ"
   },
   "source": [
    "8.0 Model Evaluation"
   ]
  },
  {
   "cell_type": "code",
   "execution_count": 60,
   "metadata": {
    "scrolled": false
   },
   "outputs": [
    {
     "name": "stdout",
     "output_type": "stream",
     "text": [
      "Decision Tree Model Evaluation:\n",
      "Accuracy: 0.8151\n",
      "\n",
      "Classification Report:\n",
      "              precision    recall  f1-score   support\n",
      "\n",
      "           0       0.46      0.26      0.33        23\n",
      "           1       1.00      0.20      0.33         5\n",
      "           2       0.85      0.96      0.90       117\n",
      "           3       0.00      0.00      0.00         1\n",
      "\n",
      "    accuracy                           0.82       146\n",
      "   macro avg       0.58      0.35      0.39       146\n",
      "weighted avg       0.79      0.82      0.78       146\n",
      "\n",
      "\n",
      "Confusion Matrix:\n",
      "[[  6   0  17   0]\n",
      " [  1   1   3   0]\n",
      " [  5   0 112   0]\n",
      " [  1   0   0   0]]\n",
      "\n",
      "Random Forest Model Evaluation:\n",
      "Accuracy: 0.8288\n",
      "\n",
      "Classification Report:\n",
      "              precision    recall  f1-score   support\n",
      "\n",
      "           0       0.60      0.26      0.36        23\n",
      "           1       1.00      0.20      0.33         5\n",
      "           2       0.84      0.97      0.90       117\n",
      "           3       0.00      0.00      0.00         1\n",
      "\n",
      "    accuracy                           0.83       146\n",
      "   macro avg       0.61      0.36      0.40       146\n",
      "weighted avg       0.81      0.83      0.79       146\n",
      "\n",
      "\n",
      "Confusion Matrix:\n",
      "[[  6   0  17   0]\n",
      " [  1   1   3   0]\n",
      " [  3   0 114   0]\n",
      " [  0   0   1   0]]\n",
      "\n",
      "Support Vector Machine Model Evaluation:\n",
      "Accuracy: 0.8014\n",
      "\n",
      "Classification Report:\n",
      "              precision    recall  f1-score   support\n",
      "\n",
      "           0       0.00      0.00      0.00        23\n",
      "           1       0.50      0.20      0.29         5\n",
      "           2       0.81      0.99      0.89       117\n",
      "           3       0.00      0.00      0.00         1\n",
      "\n",
      "    accuracy                           0.80       146\n",
      "   macro avg       0.33      0.30      0.29       146\n",
      "weighted avg       0.66      0.80      0.72       146\n",
      "\n",
      "\n",
      "Confusion Matrix:\n",
      "[[  0   0  23   0]\n",
      " [  0   1   4   0]\n",
      " [  0   1 116   0]\n",
      " [  0   0   1   0]]\n",
      "\n",
      "Gradient Boosting Model Evaluation:\n",
      "Accuracy: 0.8014\n",
      "\n",
      "Classification Report:\n",
      "              precision    recall  f1-score   support\n",
      "\n",
      "           0       0.46      0.26      0.33        23\n",
      "           1       0.50      0.20      0.29         5\n",
      "           2       0.85      0.94      0.89       117\n",
      "           3       0.00      0.00      0.00         1\n",
      "\n",
      "    accuracy                           0.80       146\n",
      "   macro avg       0.45      0.35      0.38       146\n",
      "weighted avg       0.77      0.80      0.78       146\n",
      "\n",
      "\n",
      "Confusion Matrix:\n",
      "[[  6   1  16   0]\n",
      " [  1   1   3   0]\n",
      " [  6   0 110   1]\n",
      " [  0   0   1   0]]\n",
      "XGBoost Classifier - Accuracy: 0.8014\n",
      "\n",
      "Classification Report:\n",
      "              precision    recall  f1-score   support\n",
      "\n",
      "           0       0.41      0.30      0.35        23\n",
      "           1       0.50      0.20      0.29         5\n",
      "           2       0.86      0.93      0.89       117\n",
      "           3       0.00      0.00      0.00         1\n",
      "\n",
      "    accuracy                           0.80       146\n",
      "   macro avg       0.44      0.36      0.38       146\n",
      "weighted avg       0.77      0.80      0.78       146\n",
      "\n",
      "\n",
      "Confusion Matrix:\n",
      "[[  7   1  15   0]\n",
      " [  1   1   3   0]\n",
      " [  8   0 109   0]\n",
      " [  1   0   0   0]]\n"
     ]
    }
   ],
   "source": [
    "from sklearn.metrics import accuracy_score, classification_report, confusion_matrix ,mean_squared_error\n",
    "\n",
    "# Evaluate Decision Tree model\n",
    "y_class_pred_dt = best_model.predict(X_test_scale)\n",
    "accuracy_dt = accuracy_score(y_class_test, y_class_pred_dt)\n",
    "classification_rep_dt = classification_report(y_class_test, y_class_pred_dt)\n",
    "conf_matrix_dt = confusion_matrix(y_class_test, y_class_pred_dt)\n",
    "\n",
    "print(\"Decision Tree Model Evaluation:\")\n",
    "print(f'Accuracy: {accuracy_dt:.4f}')\n",
    "print('\\nClassification Report:')\n",
    "print(classification_rep_dt)\n",
    "print('\\nConfusion Matrix:')\n",
    "print(conf_matrix_dt)\n",
    "\n",
    "# Evaluate Random Forest model\n",
    "accuracy_rf = accuracy_score(y_class_test, y_class_pred_rf)\n",
    "classification_rep_rf = classification_report(y_class_test, y_class_pred_rf)\n",
    "conf_matrix_rf = confusion_matrix(y_class_test, y_class_pred_rf)\n",
    "\n",
    "print(\"\\nRandom Forest Model Evaluation:\")\n",
    "print(f'Accuracy: {accuracy_rf:.4f}')\n",
    "print('\\nClassification Report:')\n",
    "print(classification_rep_rf)\n",
    "print('\\nConfusion Matrix:')\n",
    "print(conf_matrix_rf)\n",
    "\n",
    "# Evaluate SVM model\n",
    "accuracy_svm = accuracy_score(y_class_test, y_class_pred_svm)\n",
    "classification_rep_svm = classification_report(y_class_test, y_class_pred_svm)\n",
    "conf_matrix_svm = confusion_matrix(y_class_test, y_class_pred_svm)\n",
    "\n",
    "print(\"\\nSupport Vector Machine Model Evaluation:\")\n",
    "print(f'Accuracy: {accuracy_svm:.4f}')\n",
    "print('\\nClassification Report:')\n",
    "print(classification_rep_svm)\n",
    "print('\\nConfusion Matrix:')\n",
    "print(conf_matrix_svm)\n",
    "\n",
    "# Evaluate Gradient Boosting model\n",
    "accuracy_gb = accuracy_score(y_class_test, y_class_pred_gb)\n",
    "classification_rep_gb = classification_report(y_class_test, y_class_pred_gb)\n",
    "conf_matrix_gb = confusion_matrix(y_class_test, y_class_pred_gb)\n",
    "\n",
    "print(\"\\nGradient Boosting Model Evaluation:\")\n",
    "print(f'Accuracy: {accuracy_gb:.4f}')\n",
    "print('\\nClassification Report:')\n",
    "print(classification_rep_gb)\n",
    "print('\\nConfusion Matrix:')\n",
    "print(conf_matrix_gb)\n",
    "\n",
    "# Evaluate XGBoost model\n",
    "accuracy_xgb = accuracy_score(y_class_test, y_class_pred_xgb)\n",
    "classification_rep_xgb = classification_report(y_class_test, y_class_pred_xgb)\n",
    "conf_matrix_xgb = confusion_matrix(y_class_test, y_class_pred_xgb)\n",
    "\n",
    "print(f'XGBoost Classifier - Accuracy: {accuracy_xgb:.4f}')\n",
    "print('\\nClassification Report:')\n",
    "print(classification_rep_xgb)\n",
    "print('\\nConfusion Matrix:')\n",
    "print(conf_matrix_xgb)"
   ]
  },
  {
   "cell_type": "code",
   "execution_count": 61,
   "metadata": {},
   "outputs": [
    {
     "data": {
      "text/html": [
       "<div>\n",
       "<style scoped>\n",
       "    .dataframe tbody tr th:only-of-type {\n",
       "        vertical-align: middle;\n",
       "    }\n",
       "\n",
       "    .dataframe tbody tr th {\n",
       "        vertical-align: top;\n",
       "    }\n",
       "\n",
       "    .dataframe thead th {\n",
       "        text-align: right;\n",
       "    }\n",
       "</style>\n",
       "<table border=\"1\" class=\"dataframe\">\n",
       "  <thead>\n",
       "    <tr style=\"text-align: right;\">\n",
       "      <th></th>\n",
       "      <th>Model</th>\n",
       "    </tr>\n",
       "    <tr>\n",
       "      <th>Score</th>\n",
       "      <th></th>\n",
       "    </tr>\n",
       "  </thead>\n",
       "  <tbody>\n",
       "    <tr>\n",
       "      <th>0.828767</th>\n",
       "      <td>Random Forest</td>\n",
       "    </tr>\n",
       "    <tr>\n",
       "      <th>0.815068</th>\n",
       "      <td>Decision Tree</td>\n",
       "    </tr>\n",
       "    <tr>\n",
       "      <th>0.801370</th>\n",
       "      <td>Support Vector Machine</td>\n",
       "    </tr>\n",
       "    <tr>\n",
       "      <th>0.801370</th>\n",
       "      <td>Gradient Boosting</td>\n",
       "    </tr>\n",
       "    <tr>\n",
       "      <th>0.801370</th>\n",
       "      <td>XGBoost</td>\n",
       "    </tr>\n",
       "  </tbody>\n",
       "</table>\n",
       "</div>"
      ],
      "text/plain": [
       "                           Model\n",
       "Score                           \n",
       "0.828767           Random Forest\n",
       "0.815068           Decision Tree\n",
       "0.801370  Support Vector Machine\n",
       "0.801370       Gradient Boosting\n",
       "0.801370                 XGBoost"
      ]
     },
     "execution_count": 61,
     "metadata": {},
     "output_type": "execute_result"
    }
   ],
   "source": [
    "results = pd.DataFrame({\n",
    "    'Model':['Decision Tree', 'Support Vector Machine', 'Random Forest', 'Gradient Boosting', 'XGBoost'],\n",
    "    'Score':[accuracy_dt, accuracy_svm, accuracy_rf, accuracy_gb,accuracy_xgb]})\n",
    "result_df = results.sort_values(by = 'Score', ascending = False)\n",
    "result_df = result_df.set_index('Score')\n",
    "result_df"
   ]
  },
  {
   "cell_type": "markdown",
   "metadata": {},
   "source": [
    "Based on the table, it shows the accuracy scores for five different machine learning models: Random Forest, XGBoost, Support Vector Machine (SVM), Gradient Boosting, and Decision Tree. Among the models, we know that the highest accuracy is Random Forest with an accuracy of 82.88%, following by Decision Tree with an accuracy of 81.51%. SVM, XGBoost and Gradient Boosting score the same accuracy about 80.14%."
   ]
  },
  {
   "cell_type": "code",
   "execution_count": 62,
   "metadata": {},
   "outputs": [
    {
     "name": "stdout",
     "output_type": "stream",
     "text": [
      "                   precision    recall  f1-score  support\n",
      "Model                                                    \n",
      "Random Forest       0.805479  0.828767  0.793750    146.0\n",
      "Decision Tree       0.786905  0.815068  0.784838    146.0\n",
      "XGBoost             0.769780  0.801370  0.780900    146.0\n",
      "Gradient Boosting   0.767914  0.801370  0.776067    146.0\n",
      "SVM                 0.662671  0.801370  0.722114    146.0\n"
     ]
    }
   ],
   "source": [
    "from sklearn.metrics import classification_report\n",
    "\n",
    "# Create a DataFrame for Classification Report\n",
    "classification_reports = []\n",
    "\n",
    "# SVM\n",
    "report_svm = classification_report(y_class_test, y_class_pred_svm, output_dict=True)\n",
    "classification_reports.append({'Model': 'SVM', **report_svm['weighted avg']})\n",
    "\n",
    "# Decision Tree\n",
    "report_dt = classification_report(y_class_test, y_class_pred_dt, output_dict=True)\n",
    "classification_reports.append({'Model': 'Decision Tree', **report_dt['weighted avg']})\n",
    "\n",
    "# Random Forest\n",
    "report_rf = classification_report(y_class_test, y_class_pred_rf, output_dict=True)\n",
    "classification_reports.append({'Model': 'Random Forest', **report_rf['weighted avg']})\n",
    "\n",
    "# Gradient Boosting\n",
    "report_gb = classification_report(y_class_test, y_class_pred_gb, output_dict=True)\n",
    "classification_reports.append({'Model': 'Gradient Boosting', **report_gb['weighted avg']})\n",
    "\n",
    "# XGBoost\n",
    "report_xgb = classification_report(y_class_test, y_class_pred_xgb, output_dict=True)\n",
    "classification_reports.append({'Model': 'XGBoost', **report_xgb['weighted avg']})\n",
    "\n",
    "\n",
    "# Create DataFrame\n",
    "classification_df = pd.DataFrame(classification_reports)\n",
    "classification_df = classification_df.set_index('Model')\n",
    "\n",
    "# Sort DataFrame by Score in descending order\n",
    "classification_df = classification_df.sort_values(by='f1-score', ascending=False)\n",
    "\n",
    "# Print the DataFrame\n",
    "print(classification_df)"
   ]
  },
  {
   "cell_type": "markdown",
   "metadata": {},
   "source": [
    "Precision is concerned with positive forecast accuracy, recall is concerned with recording every true instance of success, and the F1-score achieves equilibrium between recall and accuracy. Overall, Random Forest got the highest precision, recall, and F1-score among the five models listed, with 0.81, 0.83, and 0.79, respectively. Meanwhile, SVM has the lowest precision and F1-score with 0.66 and 0.72, respectively."
   ]
  },
  {
   "cell_type": "markdown",
   "metadata": {
    "id": "jPqIqDobTGoh"
   },
   "source": [
    "9.0 ROC Curve"
   ]
  },
  {
   "cell_type": "code",
   "execution_count": 63,
   "metadata": {},
   "outputs": [
    {
     "name": "stdout",
     "output_type": "stream",
     "text": [
      "                        AUC\n",
      "Model                      \n",
      "XGBoost            0.767977\n",
      "Random Forest      0.752685\n",
      "Gradient Boosting  0.729542\n",
      "SVM                0.626958\n",
      "Decision Tree      0.587532\n"
     ]
    },
    {
     "data": {
      "image/png": "[encoded data removed]",
      "text/plain": [
       "<Figure size 1000x800 with 1 Axes>"
      ]
     },
     "metadata": {},
     "output_type": "display_data"
    }
   ],
   "source": [
    "from sklearn.model_selection import train_test_split\n",
    "from sklearn.tree import DecisionTreeClassifier\n",
    "from sklearn.ensemble import RandomForestClassifier, GradientBoostingClassifier\n",
    "from sklearn.svm import SVC\n",
    "from xgboost import XGBClassifier\n",
    "from sklearn.metrics import roc_curve, auc, roc_auc_score\n",
    "from sklearn.preprocessing import label_binarize\n",
    "import matplotlib.pyplot as plt\n",
    "import pandas as pd\n",
    "\n",
    "# Decision Tree\n",
    "dt_classifier = DecisionTreeClassifier(random_state=42)\n",
    "dt_classifier.fit(X_train, y_class_train)\n",
    "\n",
    "# Random Forest\n",
    "rf_classifier = RandomForestClassifier(random_state=42)\n",
    "rf_classifier.fit(X_train, y_class_train)\n",
    "\n",
    "# Support Vector Machine (SVM)\n",
    "svm_classifier = SVC(probability=True, random_state=42)\n",
    "svm_classifier.fit(X_train, y_class_train)\n",
    "\n",
    "# Gradient Boosting\n",
    "gb_classifier = GradientBoostingClassifier(random_state=42)\n",
    "gb_classifier.fit(X_train, y_class_train)\n",
    "\n",
    "# XGBoost\n",
    "xgb_classifier = XGBClassifier(random_state=42)\n",
    "xgb_classifier.fit(X_train, y_class_train)\n",
    "\n",
    "# Binarize the labels\n",
    "y_test_bin = label_binarize(y_class_test, classes=dt_classifier.classes_)\n",
    "\n",
    "# Decision Tree\n",
    "y_dt_probs = dt_classifier.predict_proba(X_test)\n",
    "roc_auc_dt = roc_auc_score(y_test_bin, y_dt_probs, multi_class='ovr')\n",
    "fpr_dt, tpr_dt, thresholds_dt = roc_curve(y_test_bin.ravel(), y_dt_probs.ravel())\n",
    "\n",
    "# Random Forest\n",
    "y_rf_probs = rf_classifier.predict_proba(X_test)\n",
    "roc_auc_rf = roc_auc_score(y_test_bin, y_rf_probs, multi_class='ovr')\n",
    "fpr_rf, tpr_rf, thresholds_rf = roc_curve(y_test_bin.ravel(), y_rf_probs.ravel())\n",
    "\n",
    "# Support Vector Machine (SVM)\n",
    "y_svm_probs = svm_classifier.predict_proba(X_test)\n",
    "roc_auc_svm = roc_auc_score(y_test_bin, y_svm_probs, multi_class='ovr')\n",
    "fpr_svm, tpr_svm, thresholds_svm = roc_curve(y_test_bin.ravel(), y_svm_probs.ravel())\n",
    "\n",
    "# Gradient Boosting\n",
    "y_gb_probs = gb_classifier.predict_proba(X_test)\n",
    "roc_auc_gb = roc_auc_score(y_test_bin, y_gb_probs, multi_class='ovr')\n",
    "fpr_gb, tpr_gb, thresholds_gb = roc_curve(y_test_bin.ravel(), y_gb_probs.ravel())\n",
    "\n",
    "# XGBoost\n",
    "y_xgb_probs = xgb_classifier.predict_proba(X_test)\n",
    "roc_auc_xgb = roc_auc_score(y_test_bin, y_xgb_probs, multi_class='ovr')\n",
    "fpr_xgb, tpr_xgb, thresholds_xgb = roc_curve(y_test_bin.ravel(), y_xgb_probs.ravel())\n",
    "\n",
    "# Create a dictionary to store AUC values\n",
    "auc_results = {\n",
    "    'Decision Tree': roc_auc_dt,\n",
    "    'Random Forest': roc_auc_rf,\n",
    "    'SVM': roc_auc_svm,\n",
    "    'Gradient Boosting': roc_auc_gb,\n",
    "    'XGBoost': roc_auc_xgb\n",
    "}\n",
    "\n",
    "# Create DataFrame\n",
    "auc_df = pd.DataFrame(list(auc_results.items()), columns=['Model', 'AUC'])\n",
    "auc_df = auc_df.set_index('Model')\n",
    "\n",
    "# Sort DataFrame by AUC in descending order\n",
    "auc_df = auc_df.sort_values(by='AUC', ascending=False)\n",
    "\n",
    "# Print the DataFrame\n",
    "print(auc_df)\n",
    "\n",
    "# Plot ROC curves\n",
    "plt.figure(figsize=(10, 8))\n",
    "plt.plot(fpr_dt, tpr_dt, color='darkorange', lw=2, label=f'Decision Tree (AUC = {roc_auc_dt:.2f})')\n",
    "plt.plot(fpr_rf, tpr_rf, color='green', lw=2, label=f'Random Forest (AUC = {roc_auc_rf:.2f})')\n",
    "plt.plot(fpr_svm, tpr_svm, color='blue', lw=2, label=f'SVM (AUC = {roc_auc_svm:.2f})')\n",
    "plt.plot(fpr_gb, tpr_gb, color='purple', lw=2, label=f'Gradient Boosting (AUC = {roc_auc_gb:.2f})')\n",
    "plt.plot(fpr_xgb, tpr_xgb, color='red', lw=2, label=f'XGBoost (AUC = {roc_auc_xgb:.2f})')\n",
    "plt.plot([0, 1], [0, 1], color='navy', lw=2, linestyle='--')\n",
    "plt.xlabel('False Positive Rate')\n",
    "plt.ylabel('True Positive Rate')\n",
    "plt.title('Receiver Operating Characteristic (ROC) Curve')\n",
    "plt.legend(loc='lower right')\n",
    "plt.show()"
   ]
  },
  {
   "cell_type": "markdown",
   "metadata": {},
   "source": [
    "Based on the graph above it showed the performance of Receiver Operating Characteristics (ROC). XGBoost has the highest Area Under the Curve (AUC) value at 0.77, indicating the most outstanding performance. At the same time, the lowest AUC is the decision tree, with only 0.59. The AUC values quantify the ability of each model to differentiate between classes. A model's performance improves as the AUC value increases. In general, the ROC curve shows that XGBoost outperforms Random Forest and Gradient Boosting as the most effective model for this task. SVM and Decision Tree exhibit comparatively lower accuracy in differentiating true positives from false positives."
   ]
  },
  {
   "cell_type": "markdown",
   "metadata": {
    "id": "4gWyCZJ_TNi0"
   },
   "source": [
    "10.0 MSE & RMSE"
   ]
  },
  {
   "cell_type": "code",
   "execution_count": 64,
   "metadata": {},
   "outputs": [
    {
     "name": "stdout",
     "output_type": "stream",
     "text": [
      "                        MSE      RMSE\n",
      "Model                                \n",
      "Random Forest      0.582192  0.763015\n",
      "Gradient Boosting  0.650685  0.806650\n",
      "SVM                0.671233  0.819288\n",
      "Decision Tree      0.691781  0.831734\n",
      "XGBoost            0.726027  0.852072\n"
     ]
    }
   ],
   "source": [
    "# Create a DataFrame for MSE and RMSE\n",
    "mse_rmse_results = []\n",
    "\n",
    "# SVM\n",
    "mse_svm = mean_squared_error(y_class_test, y_class_pred_svm)\n",
    "rmse_svm = sqrt(mse_svm)\n",
    "mse_rmse_results.append({'Model': 'SVM', 'MSE': mse_svm, 'RMSE': rmse_svm})\n",
    "\n",
    "# Decision Tree\n",
    "mse_dt = mean_squared_error(y_class_test, y_class_pred_dt)\n",
    "rmse_dt = sqrt(mse_dt)\n",
    "mse_rmse_results.append({'Model': 'Decision Tree', 'MSE': mse_dt, 'RMSE': rmse_dt})\n",
    "\n",
    "# Random Forest\n",
    "mse_rf = mean_squared_error(y_class_test, y_class_pred_rf)\n",
    "rmse_rf = sqrt(mse_rf)\n",
    "mse_rmse_results.append({'Model': 'Random Forest', 'MSE': mse_rf, 'RMSE': rmse_rf})\n",
    "\n",
    "# Gradient Boosting\n",
    "mse_gb = mean_squared_error(y_class_test, y_class_pred_gb)\n",
    "rmse_gb = sqrt(mse_gb)\n",
    "mse_rmse_results.append({'Model': 'Gradient Boosting', 'MSE': mse_gb, 'RMSE': rmse_gb})\n",
    "\n",
    "# XGBoost\n",
    "mse_xgb = mean_squared_error(y_class_test, y_class_pred_xgb)\n",
    "rmse_xgb = sqrt(mse_xgb)\n",
    "mse_rmse_results.append({'Model': 'XGBoost', 'MSE': mse_xgb, 'RMSE': rmse_xgb})\n",
    "\n",
    "# Create DataFrame\n",
    "mse_rmse_df = pd.DataFrame(mse_rmse_results)\n",
    "mse_rmse_df = mse_rmse_df.set_index('Model')\n",
    "\n",
    "# Sort DataFrame by MSE in ascending order\n",
    "mse_rmse_df = mse_rmse_df.sort_values(by='MSE', ascending=True)\n",
    "\n",
    "# Print the DataFrame\n",
    "print(mse_rmse_df)"
   ]
  },
  {
   "cell_type": "markdown",
   "metadata": {},
   "source": [
    "The table above shows the performance of Mean Squared Error (MSE) and Root Mean Squared Error (RMSE). Among the models provided, the Random Forest stands out as the top performer due to its much lower MSE and RMSE values, with 0.58 and 0.76, respectively. With the greatest values of MSE and RMSE, the XGBoost is the least effective of those that were provided with the MSE is 0.73 and RMSE is 0.85. The error rates are an indication of each model's prediction accuracy with regard to the objective variable. The model's performance increases as the error rate drops."
   ]
  },
  {
   "cell_type": "markdown",
   "metadata": {},
   "source": [
    "# Save the model"
   ]
  },
  {
   "cell_type": "code",
   "execution_count": 65,
   "metadata": {},
   "outputs": [
    {
     "data": {
      "text/plain": [
       "['xgboost_model.pkl']"
      ]
     },
     "execution_count": 65,
     "metadata": {},
     "output_type": "execute_result"
    }
   ],
   "source": [
    "import joblib\n",
    "\n",
    "# Save Decision Tree model\n",
    "joblib.dump(dt_classifier, 'decision_tree_model.pkl')\n",
    "\n",
    "# Save Random Forest model\n",
    "joblib.dump(rf_classifier, 'random_forest_model.pkl')\n",
    "\n",
    "# Save SVM model\n",
    "joblib.dump(svm_classifier, 'svm_model.pkl')\n",
    "\n",
    "# Save Gradient Boosting model\n",
    "joblib.dump(gb_classifier, 'gradient_boosting_model.pkl')\n",
    "\n",
    "# Save XGBoost model\n",
    "joblib.dump(xgb_classifier, 'xgboost_model.pkl')"
   ]
  },
  {
   "cell_type": "code",
   "execution_count": 66,
   "metadata": {},
   "outputs": [],
   "source": [
    "# Load Decision Tree model\n",
    "loaded_dt_model = joblib.load('decision_tree_model.pkl')\n",
    "\n",
    "# Load Random Forest model\n",
    "loaded_rf_model = joblib.load('random_forest_model.pkl')\n",
    "\n",
    "# Load SVM model\n",
    "loaded_svm_model = joblib.load('svm_model.pkl')\n",
    "\n",
    "# Load Gradient Boosting model\n",
    "loaded_gb_model = joblib.load('gradient_boosting_model.pkl')\n",
    "\n",
    "# Load XGBoost model\n",
    "loaded_xgb_model = joblib.load('xgboost_model.pkl')"
   ]
  },
  {
   "cell_type": "code",
   "execution_count": null,
   "metadata": {},
   "outputs": [],
   "source": []
  }
 ],
 "metadata": {
  "colab": {
   "provenance": []
  },
  "kernelspec": {
   "display_name": "Python 3 (ipykernel)",
   "language": "python",
   "name": "python3"
  },
  "language_info": {
   "codemirror_mode": {
    "name": "ipython",
    "version": 3
   },
   "file_extension": ".py",
   "mimetype": "text/x-python",
   "name": "python",
   "nbconvert_exporter": "python",
   "pygments_lexer": "ipython3",
   "version": "3.9.13"
  }
 },
 "nbformat": 4,
 "nbformat_minor": 1
}
